{
 "cells": [
  {
   "cell_type": "code",
   "execution_count": 23,
   "id": "8cdc9582",
   "metadata": {},
   "outputs": [
    {
     "data": {
      "text/plain": [
       "'\\nChapter 4: Fine-Tuning GPT3 with Custom Examples \\n    Overview of Transfer Learning & Fine-tuning\\n    Overview of GPT3 Fine-tuning API\\n    Using Fine-tuned GPT3 Models to Get Better Results\\n'"
      ]
     },
     "execution_count": 23,
     "metadata": {},
     "output_type": "execute_result"
    }
   ],
   "source": [
    "'''\n",
    "Chapter 4: Fine-Tuning GPT3 with Custom Examples \n",
    "    Overview of Transfer Learning & Fine-tuning\n",
    "    Overview of GPT3 Fine-tuning API\n",
    "    Using Fine-tuned GPT3 Models to Get Better Results\n",
    "'''"
   ]
  },
  {
   "cell_type": "code",
   "execution_count": null,
   "id": "401bca16",
   "metadata": {},
   "outputs": [],
   "source": [
    "import pandas as pd"
   ]
  },
  {
   "cell_type": "code",
   "execution_count": null,
   "id": "18dd7e19",
   "metadata": {},
   "outputs": [],
   "source": []
  },
  {
   "cell_type": "code",
   "execution_count": 91,
   "id": "950c8fa2",
   "metadata": {
    "scrolled": true
   },
   "outputs": [
    {
     "name": "stderr",
     "output_type": "stream",
     "text": [
      "Found cached dataset gsm8k (/Users/sinanozdemir/.cache/huggingface/datasets/gsm8k/main/1.1.0/37bfb08b1d4fcbb01f06b03d9e1ef5f1fcbd4d3af3d08842c50d7305091285ba)\n"
     ]
    },
    {
     "data": {
      "application/vnd.jupyter.widget-view+json": {
       "model_id": "71559f26a8734e5d880d1a3228d43e59",
       "version_major": 2,
       "version_minor": 0
      },
      "text/plain": [
       "  0%|          | 0/2 [00:00<?, ?it/s]"
      ]
     },
     "metadata": {},
     "output_type": "display_data"
    }
   ],
   "source": [
    "from datasets import load_dataset\n",
    "import os\n",
    "import openai\n",
    "\n",
    "openai.api_key = os.getenv(\"OPENAI_API_KEY\")\n",
    "\n",
    "def test_prompt(prompt, suppress=False, model='text-davinci-003', max_tokens=256, **kwargs):\n",
    "\n",
    "    response = openai.Completion.create(\n",
    "      model=model,\n",
    "      prompt=prompt,\n",
    "      max_tokens=max_tokens,\n",
    "      **kwargs\n",
    "    )\n",
    "    if not suppress:\n",
    "        print(f'PROMPT:\\n------\\n{prompt}\\n------\\nRESPONSE\\n------\\n{prompt}{response.choices[0].text}')\n",
    "\n",
    "\n",
    "dataset = load_dataset(\"gsm8k\", \"main\")"
   ]
  },
  {
   "cell_type": "code",
   "execution_count": 92,
   "id": "c2f1b341",
   "metadata": {},
   "outputs": [
    {
     "data": {
      "text/plain": [
       "DatasetDict({\n",
       "    train: Dataset({\n",
       "        features: ['question', 'answer'],\n",
       "        num_rows: 7473\n",
       "    })\n",
       "    test: Dataset({\n",
       "        features: ['question', 'answer'],\n",
       "        num_rows: 1319\n",
       "    })\n",
       "})"
      ]
     },
     "execution_count": 92,
     "metadata": {},
     "output_type": "execute_result"
    }
   ],
   "source": [
    "dataset"
   ]
  },
  {
   "cell_type": "code",
   "execution_count": 93,
   "id": "5c265ed1",
   "metadata": {},
   "outputs": [
    {
     "data": {
      "text/plain": [
       "{'question': 'Natalia sold clips to 48 of her friends in April, and then she sold half as many clips in May. How many clips did Natalia sell altogether in April and May?',\n",
       " 'answer': 'Natalia sold 48/2 = <<48/2=24>>24 clips in May.\\nNatalia sold 48+24 = <<48+24=72>>72 clips altogether in April and May.\\n#### 72'}"
      ]
     },
     "execution_count": 93,
     "metadata": {},
     "output_type": "execute_result"
    }
   ],
   "source": [
    "dataset['train'][0]"
   ]
  },
  {
   "cell_type": "code",
   "execution_count": 94,
   "id": "3cee7562",
   "metadata": {},
   "outputs": [
    {
     "data": {
      "text/plain": [
       "{'question': 'Natalia sold clips to 48 of her friends in April, and then she sold half as many clips in May. How many clips did Natalia sell altogether in April and May?',\n",
       " 'answer': 'Natalia sold 48/2 = <<48/2=24>>24 clips in May.\\nNatalia sold 48+24 = <<48+24=72>>72 clips altogether in April and May.\\n#### 72'}"
      ]
     },
     "execution_count": 94,
     "metadata": {},
     "output_type": "execute_result"
    }
   ],
   "source": [
    "dataset['train'][0]"
   ]
  },
  {
   "cell_type": "markdown",
   "id": "11ea4c4a",
   "metadata": {},
   "source": [
    "# no chain of thought    "
   ]
  },
  {
   "cell_type": "code",
   "execution_count": 172,
   "id": "f464e137",
   "metadata": {},
   "outputs": [],
   "source": [
    "training_rows, testing_rows = [], []\n",
    "\n",
    "\n",
    "for row in list(dataset['train']):\n",
    "    # don't forget the space before the label. It's not technically required, but GPT is\n",
    "    # used to predicing a space so it will make the training easier\n",
    "    training_rows.append({\"prompt\": row['question'], \"completion\": row['answer'].split('####')[-1]})\n",
    "\n",
    "for row in list(dataset['test']):\n",
    "    # don't forget the space before the label. It's not technically required, but GPT is\n",
    "    # used to predicing a space so it will make the training easier\n",
    "    testing_rows.append({\"prompt\": row['question'], \"completion\": row['answer'].split('####')[-1]})\n",
    "\n",
    "    "
   ]
  },
  {
   "cell_type": "code",
   "execution_count": 173,
   "id": "956ab766",
   "metadata": {},
   "outputs": [
    {
     "data": {
      "text/plain": [
       "({'prompt': 'Natalia sold clips to 48 of her friends in April, and then she sold half as many clips in May. How many clips did Natalia sell altogether in April and May?',\n",
       "  'completion': ' 72'},\n",
       " {'prompt': \"Janet’s ducks lay 16 eggs per day. She eats three for breakfast every morning and bakes muffins for her friends every day with four. She sells the remainder at the farmers' market daily for $2 per fresh duck egg. How much in dollars does she make every day at the farmers' market?\",\n",
       "  'completion': ' 18'})"
      ]
     },
     "execution_count": 173,
     "metadata": {},
     "output_type": "execute_result"
    }
   ],
   "source": [
    "training_rows[0], testing_rows[0]"
   ]
  },
  {
   "cell_type": "code",
   "execution_count": 175,
   "id": "6035f0a3",
   "metadata": {},
   "outputs": [
    {
     "data": {
      "text/plain": [
       "2098011"
      ]
     },
     "execution_count": 175,
     "metadata": {},
     "output_type": "execute_result"
    }
   ],
   "source": [
    "sum([len(training_row['prompt'] + training_row['completion']) for training_row in training_rows]) + \\\n",
    "sum([len(testing_row['prompt'] + testing_row['completion']) for testing_row in testing_rows])\n"
   ]
  },
  {
   "cell_type": "code",
   "execution_count": 185,
   "id": "d01ea888",
   "metadata": {},
   "outputs": [],
   "source": [
    "import json\n",
    "\n",
    "with open('../data/openai-train.jsonl', 'w') as outfile:\n",
    "    for entry in training_rows:\n",
    "        json.dump(entry, outfile)\n",
    "        outfile.write('\\n')\n",
    "        \n",
    "\n",
    "with open('../data/openai-validation.jsonl', 'w') as outfile:\n",
    "    for entry in testing_rows:\n",
    "        json.dump(entry, outfile)\n",
    "        outfile.write('\\n')"
   ]
  },
  {
   "cell_type": "code",
   "execution_count": 186,
   "id": "1bf43296",
   "metadata": {},
   "outputs": [
    {
     "name": "stdout",
     "output_type": "stream",
     "text": [
      "Upload progress: 100%|█████████████████████| 2.03M/2.03M [00:00<00:00, 999Mit/s]\n",
      "Uploaded file from ../data/openai-train.jsonl: file-WSJf20MedIx7QcODGByVrl6M\n",
      "Upload progress: 100%|███████████████████████| 365k/365k [00:00<00:00, 163Mit/s]\n",
      "Uploaded file from ../data/openai-validation.jsonl: file-CH2xTvOjCHH561yWW9c0Tqqo\n",
      "Created fine-tune: ft-JuCUmhbl4Had6UPVudmyRzIA\n",
      "Streaming events until fine-tuning is complete...\n",
      "\n",
      "(Ctrl-C will interrupt the stream, but not cancel the fine-tune)\n",
      "[2023-03-17 20:43:33] Created fine-tune: ft-JuCUmhbl4Had6UPVudmyRzIA\n",
      "\n",
      "Stream interrupted (client disconnected).\n",
      "To resume the stream, run:\n",
      "\n",
      "  openai api fine_tunes.follow -i ft-JuCUmhbl4Had6UPVudmyRzIA\n",
      "\n"
     ]
    }
   ],
   "source": [
    "!openai api fine_tunes.create --training_file \"../data/openai-train.jsonl\" --validation_file \"../data/openai-validation.jsonl\" --model \"ada\" --n_epochs 10\n"
   ]
  },
  {
   "cell_type": "code",
   "execution_count": 191,
   "id": "986e9d66",
   "metadata": {},
   "outputs": [
    {
     "name": "stdout",
     "output_type": "stream",
     "text": [
      "[2023-03-17 20:43:33] Created fine-tune: ft-JuCUmhbl4Had6UPVudmyRzIA\n",
      "[2023-03-17 20:45:58] Fine-tune costs $1.68\n",
      "[2023-03-17 20:45:58] Fine-tune enqueued. Queue number: 0\n",
      "[2023-03-17 20:45:59] Fine-tune started\n",
      "[2023-03-17 20:52:12] Completed epoch 1/10\n",
      "[2023-03-17 20:58:08] Completed epoch 2/10\n",
      "[2023-03-17 21:04:03] Completed epoch 3/10\n",
      "[2023-03-17 21:10:00] Completed epoch 4/10\n",
      "[2023-03-17 21:15:56] Completed epoch 5/10\n",
      "[2023-03-17 21:21:52] Completed epoch 6/10\n",
      "[2023-03-17 21:27:48] Completed epoch 7/10\n",
      "[2023-03-17 21:33:45] Completed epoch 8/10\n",
      "[2023-03-17 21:39:42] Completed epoch 9/10\n",
      "[2023-03-17 21:45:40] Completed epoch 10/10\n",
      "[2023-03-17 21:46:05] Uploaded model: ada:ft-personal-2023-03-18-04-46-04\n",
      "[2023-03-17 21:46:07] Uploaded result file: file-LYOuUNZhCqjVV17paSv85Sz3\n",
      "[2023-03-17 21:46:07] Fine-tune succeeded\n",
      "\n",
      "Job complete! Status: succeeded 🎉\n",
      "Try out your fine-tuned model:\n",
      "\n",
      "openai api completions.create -m ada:ft-personal-2023-03-18-04-46-04 -p <YOUR_PROMPT>\n"
     ]
    }
   ],
   "source": [
    "!openai api fine_tunes.follow -i ft-JuCUmhbl4Had6UPVudmyRzIA"
   ]
  },
  {
   "cell_type": "code",
   "execution_count": 190,
   "id": "365ac0f6",
   "metadata": {
    "scrolled": true
   },
   "outputs": [
    {
     "name": "stdout",
     "output_type": "stream",
     "text": [
      "\u001b[34m\u001b[1mwandb\u001b[0m: Currently logged in as: \u001b[33mprofoz\u001b[0m. Use \u001b[1m`wandb login --relogin`\u001b[0m to force relogin\n",
      "\u001b[34m\u001b[1mwandb\u001b[0m: Tracking run with wandb version 0.14.0\n",
      "\u001b[34m\u001b[1mwandb\u001b[0m: Run data is saved locally in \u001b[35m\u001b[1m/Users/sinanozdemir/Teaching/Pearson/quick-start-llms/notebooks/wandb/run-20230318_065318-ft-JuCUmhbl4Had6UPVudmyRzIA\u001b[0m\n",
      "\u001b[34m\u001b[1mwandb\u001b[0m: Run \u001b[1m`wandb offline`\u001b[0m to turn off syncing.\n",
      "\u001b[34m\u001b[1mwandb\u001b[0m: Syncing run \u001b[33mft-JuCUmhbl4Had6UPVudmyRzIA\u001b[0m\n",
      "\u001b[34m\u001b[1mwandb\u001b[0m: ⭐️ View project at \u001b[34m\u001b[4mhttps://wandb.ai/profoz/GPT-3\u001b[0m\n",
      "\u001b[34m\u001b[1mwandb\u001b[0m: 🚀 View run at \u001b[34m\u001b[4mhttps://wandb.ai/profoz/GPT-3/runs/ft-JuCUmhbl4Had6UPVudmyRzIA\u001b[0m\n",
      "^C\n",
      "\n",
      "\u001b[34m\u001b[1mwandb\u001b[0m: Waiting for W&B process to finish... \u001b[32m(success).\u001b[0m\n"
     ]
    }
   ],
   "source": [
    "!openai wandb sync -i ft-JuCUmhbl4Had6UPVudmyRzIA\n"
   ]
  },
  {
   "cell_type": "code",
   "execution_count": 282,
   "id": "789d1a47",
   "metadata": {},
   "outputs": [],
   "source": []
  },
  {
   "cell_type": "code",
   "execution_count": 326,
   "id": "ba019805",
   "metadata": {},
   "outputs": [
    {
     "data": {
      "text/plain": [
       "<matplotlib.axes._subplots.AxesSubplot at 0x1158cb730>"
      ]
     },
     "execution_count": 326,
     "metadata": {},
     "output_type": "execute_result"
    },
    {
     "data": {
      "image/png": "[encoded data removed]",
      "text/plain": [
       "<Figure size 640x480 with 1 Axes>"
      ]
     },
     "metadata": {},
     "output_type": "display_data"
    }
   ],
   "source": [
    "!openai api fine_tunes.results -i ft-JuCUmhbl4Had6UPVudmyRzIA > result.csv\n",
    "\n",
    "pd.read_csv('result.csv')['validation_loss'].dropna().plot()"
   ]
  },
  {
   "cell_type": "code",
   "execution_count": null,
   "id": "5d9feb51",
   "metadata": {},
   "outputs": [],
   "source": []
  },
  {
   "cell_type": "code",
   "execution_count": null,
   "id": "ea231d3b",
   "metadata": {},
   "outputs": [],
   "source": []
  },
  {
   "cell_type": "code",
   "execution_count": 564,
   "id": "b3a8e726",
   "metadata": {},
   "outputs": [
    {
     "name": "stdout",
     "output_type": "stream",
     "text": [
      "huggingface/tokenizers: The current process just got forked, after parallelism has already been used. Disabling parallelism to avoid deadlocks...\n",
      "To disable this warning, you can either:\n",
      "\t- Avoid using `tokenizers` before the fork if possible\n",
      "\t- Explicitly set the environment variable TOKENIZERS_PARALLELISM=(true | false)\n",
      "[organization=user-9vr5p5naslsmcksivdeejxum] \u001b[91mError:\u001b[0m Cannot cancel a job ft-G7L1MvxpGJiB8l0ZkxjiMDJU that already has status \"cancelled\". (HTTP status code: 400)\n"
     ]
    }
   ],
   "source": [
    "# Cancel a job\n",
    "# !openai api fine_tunes.cancel -i ft-G7L1MvxpGJiB8l0ZkxjiMDJU"
   ]
  },
  {
   "cell_type": "code",
   "execution_count": 192,
   "id": "68d35942",
   "metadata": {},
   "outputs": [],
   "source": [
    "FINE_TUNED_MODEL = 'ada:ft-personal-2023-03-18-04-46-04'"
   ]
  },
  {
   "cell_type": "code",
   "execution_count": 193,
   "id": "5a84df5d",
   "metadata": {},
   "outputs": [
    {
     "data": {
      "text/plain": [
       "{'prompt': \"Janet’s ducks lay 16 eggs per day. She eats three for breakfast every morning and bakes muffins for her friends every day with four. She sells the remainder at the farmers' market daily for $2 per fresh duck egg. How much in dollars does she make every day at the farmers' market?\",\n",
       " 'completion': ' 18'}"
      ]
     },
     "execution_count": 193,
     "metadata": {},
     "output_type": "execute_result"
    }
   ],
   "source": [
    "testing_rows[0]"
   ]
  },
  {
   "cell_type": "code",
   "execution_count": 194,
   "id": "9cebeaad",
   "metadata": {
    "scrolled": false
   },
   "outputs": [
    {
     "name": "stdout",
     "output_type": "stream",
     "text": [
      "PROMPT:\n",
      "------\n",
      "Janet’s ducks lay 16 eggs per day. She eats three for breakfast every morning and bakes muffins for her friends every day with four. She sells the remainder at the farmers' market daily for $2 per fresh duck egg. How much in dollars does she make every day at the farmers' market?\n",
      "------\n",
      "RESPONSE\n",
      "------\n",
      "Janet’s ducks lay 16 eggs per day. She eats three for breakfast every morning and bakes muffins for her friends every day with four. She sells the remainder at the farmers' market daily for $2 per fresh duck egg. How much in dollars does she make every day at the farmers' market? 96,800,000,000,000,000,000,000,000,000,000,000,000,000,000,000,000,000,000,000,000,000,000,000,000,000,000,000,000,000,000,000,000,000,000,000,000,000,000,000,000,000,000,000,000,000,000,000,000,000,000,000,000,000,000,000,000,000,000,000,000,000,000,000,0000,0000,0000,0000,0000,0000,0000,0000 ................................                                        >                                                                                                                                                                                                   < < < < < < < < < < < < < < < < < < < < < < < < < < < < <  < < < < <  ;6230s; 63; 144; RLG;A-b13;B-c;A12;B12;A-factory;B1B;Itemcom 179;C;FairyB12B”;MillMarcusGannon;FairyBannon;DeltaG;DysonBannon;Panini;PENN;PENN30;SiouxBannon;Sara;Skelly;SPind3;Sara4\n"
     ]
    }
   ],
   "source": [
    "test_prompt(\n",
    "    testing_rows[0]['prompt'],\n",
    "    model=FINE_TUNED_MODEL,\n",
    "    max_tokens=512,\n",
    ")"
   ]
  },
  {
   "cell_type": "code",
   "execution_count": null,
   "id": "033b12f0",
   "metadata": {},
   "outputs": [],
   "source": []
  },
  {
   "cell_type": "code",
   "execution_count": 623,
   "id": "73e19ed5",
   "metadata": {},
   "outputs": [],
   "source": [
    "import re\n",
    "def test_testing_row(testing_row, model, verbose=False, sep='####', **openai_kwargs):\n",
    "    if verbose:\n",
    "        print('ROW\\n-----------')\n",
    "        print(testing_row)\n",
    "        print()\n",
    "    \n",
    "    true = float(testing_row['completion'].split(sep)[1].strip().lower().replace(',', ''))\n",
    "\n",
    "    pred = openai.Completion.create(\n",
    "          model=model,\n",
    "          prompt=testing_row['prompt'],\n",
    "          max_tokens=256,\n",
    "        **openai_kwargs\n",
    "        ).choices[0].text\n",
    "    \n",
    "    if verbose:\n",
    "        print('OPENAI RESPONSE\\n-----------')\n",
    "        print(pred)\n",
    "        print()\n",
    "        print(pred.split(sep)[1])\n",
    "        print()\n",
    "            \n",
    "\n",
    "    pattern = re.compile(sep + r'\\s*([\\d,]+)')\n",
    "    match = pattern.search(pred)\n",
    "\n",
    "    if match:\n",
    "        result = match.group(1)\n",
    "        result = result.replace(',', '') # Remove commas if any\n",
    "        pred = float(result)\n",
    "    else:\n",
    "        pred = 0\n",
    "\n",
    "    return true, pred, true == pred"
   ]
  },
  {
   "cell_type": "code",
   "execution_count": null,
   "id": "fcfde50c",
   "metadata": {},
   "outputs": [],
   "source": []
  },
  {
   "cell_type": "code",
   "execution_count": null,
   "id": "5ba97472",
   "metadata": {},
   "outputs": [],
   "source": []
  },
  {
   "cell_type": "code",
   "execution_count": 624,
   "id": "495112b5",
   "metadata": {},
   "outputs": [],
   "source": [
    "import numpy as np\n",
    "from tqdm import tqdm\n",
    "\n",
    "def evaluate_performance(model, testing_rows, sep, **openai_kwargs):\n",
    "    data = []\n",
    "    for row in tqdm(testing_rows):\n",
    "        data.append(test_testing_row(row, model, verbose=False, sep=sep, **openai_kwargs))\n",
    "    booleans = [_[-1] for _ in data]\n",
    "    accuracy = sum(booleans)/len(booleans)\n",
    "\n",
    "\n",
    "    actual = [item[0] for item in data]\n",
    "    predicted = [item[1] for item in data]\n",
    "\n",
    "    # Calculate the differences and squared differences\n",
    "    differences = [abs(a - p) for a, p in zip(actual, predicted)]\n",
    "    squared_differences = [(a - p)**2 for a, p in zip(actual, predicted)]\n",
    "\n",
    "    # Calculate the MAE\n",
    "    mae = np.mean(differences)\n",
    "\n",
    "    # Calculate the RMSE\n",
    "    rmse = np.sqrt(np.mean(squared_differences))\n",
    "\n",
    "    return dict(accuracy=accuracy, mae=mae, rmse=rmse)\n",
    "        "
   ]
  },
  {
   "cell_type": "code",
   "execution_count": 610,
   "id": "b9ef856a",
   "metadata": {},
   "outputs": [
    {
     "name": "stdout",
     "output_type": "stream",
     "text": [
      "accuracy: 0.07\n",
      "mae: 57333.86\n",
      "rmse: 1658915.02\n"
     ]
    }
   ],
   "source": [
    "results = evaluate_performance('ada:ft-personal-2023-03-18-04-46-04', testing_rows, ' ', temperature=0)\n",
    "\n",
    "for key, value in results.items():\n",
    "    print(f'{key}: {value:.2f}')"
   ]
  },
  {
   "cell_type": "markdown",
   "id": "5a49c9ad",
   "metadata": {},
   "source": [
    "# Chain of Thought Reasoning"
   ]
  },
  {
   "cell_type": "code",
   "execution_count": 209,
   "id": "0a6da3d2",
   "metadata": {},
   "outputs": [],
   "source": [
    "main_training_rows, main_testing_rows = [], []\n",
    "\n",
    "for row in list(dataset['train']):\n",
    "    # don't forget the space before the label. It's not technically required, but GPT is\n",
    "    # used to predicing a space so it will make the training easier\n",
    "    main_training_rows.append({\"prompt\": row['question'], \"completion\": ' ' + row['answer']})\n",
    "\n",
    "for row in list(dataset['test']):\n",
    "    # don't forget the space before the label. It's not technically required, but GPT is\n",
    "    # used to predicing a space so it will make the training easier\n",
    "    main_testing_rows.append({\"prompt\": row['question'], \"completion\": ' ' + row['answer']})\n",
    "\n",
    "\n",
    "with open('../data/openai-train-cot.jsonl', 'w') as outfile:\n",
    "    for entry in main_training_rows:\n",
    "        json.dump(entry, outfile)\n",
    "        outfile.write('\\n')\n",
    "        \n",
    "\n",
    "with open('../data/openai-validation-cot.jsonl', 'w') as outfile:\n",
    "    for entry in main_testing_rows:\n",
    "        json.dump(entry, outfile)\n",
    "        outfile.write('\\n')"
   ]
  },
  {
   "cell_type": "code",
   "execution_count": 256,
   "id": "55f58ff9",
   "metadata": {},
   "outputs": [
    {
     "data": {
      "text/plain": [
       "{'prompt': 'Josh decides to try flipping a house.  He buys a house for $80,000 and then puts in $50,000 in repairs.  This increased the value of the house by 150%.  How much profit did he make?',\n",
       " 'completion': ' The cost of the house and repairs came out to 80,000+50,000=$<<80000+50000=130000>>130,000\\nHe increased the value of the house by 80,000*1.5=<<80000*1.5=120000>>120,000\\nSo the new value of the house is 120,000+80,000=$<<120000+80000=200000>>200,000\\nSo he made a profit of 200,000-130,000=$<<200000-130000=70000>>70,000\\n#### 70000'}"
      ]
     },
     "execution_count": 256,
     "metadata": {},
     "output_type": "execute_result"
    }
   ],
   "source": [
    "main_testing_rows[2]"
   ]
  },
  {
   "cell_type": "code",
   "execution_count": 210,
   "id": "31b45c9b",
   "metadata": {},
   "outputs": [
    {
     "data": {
      "text/plain": [
       "({'prompt': 'Natalia sold clips to 48 of her friends in April, and then she sold half as many clips in May. How many clips did Natalia sell altogether in April and May?',\n",
       "  'completion': ' Natalia sold 48/2 = <<48/2=24>>24 clips in May.\\nNatalia sold 48+24 = <<48+24=72>>72 clips altogether in April and May.\\n#### 72'},\n",
       " {'prompt': \"Janet’s ducks lay 16 eggs per day. She eats three for breakfast every morning and bakes muffins for her friends every day with four. She sells the remainder at the farmers' market daily for $2 per fresh duck egg. How much in dollars does she make every day at the farmers' market?\",\n",
       "  'completion': ' Janet sells 16 - 3 - 4 = <<16-3-4=9>>9 duck eggs a day.\\nShe makes 9 * 2 = $<<9*2=18>>18 every day at the farmer’s market.\\n#### 18'})"
      ]
     },
     "execution_count": 210,
     "metadata": {},
     "output_type": "execute_result"
    }
   ],
   "source": [
    "main_training_rows[0], main_testing_rows[0]"
   ]
  },
  {
   "cell_type": "code",
   "execution_count": 211,
   "id": "62ae6350",
   "metadata": {},
   "outputs": [
    {
     "data": {
      "text/plain": [
       "4612419"
      ]
     },
     "execution_count": 211,
     "metadata": {},
     "output_type": "execute_result"
    }
   ],
   "source": [
    "sum([len(main_training_row['prompt'] + main_training_row['completion']) for main_training_row in main_training_rows]) + \\\n",
    "sum([len(main_testing_row['prompt'] + main_testing_row['completion']) for main_testing_row in main_testing_rows])\n"
   ]
  },
  {
   "cell_type": "code",
   "execution_count": 220,
   "id": "9bff7c25",
   "metadata": {},
   "outputs": [
    {
     "name": "stdout",
     "output_type": "stream",
     "text": [
      "Created fine-tune: ft-uJlrLMWlvOMmj1v5mJ1Y0P9Q\n",
      "Streaming events until fine-tuning is complete...\n",
      "\n",
      "(Ctrl-C will interrupt the stream, but not cancel the fine-tune)\n",
      "[2023-03-19 15:30:59] Created fine-tune: ft-uJlrLMWlvOMmj1v5mJ1Y0P9Q\n",
      "\n",
      "Stream interrupted (client disconnected).\n",
      "To resume the stream, run:\n",
      "\n",
      "  openai api fine_tunes.follow -i ft-uJlrLMWlvOMmj1v5mJ1Y0P9Q\n",
      "\n"
     ]
    }
   ],
   "source": [
    "!openai api fine_tunes.create --training_file \"../data/openai-train-cot.jsonl\" --validation_file \"../data/openai-validation-cot.jsonl\" --model \"ada\" --n_epochs 10\n"
   ]
  },
  {
   "cell_type": "code",
   "execution_count": null,
   "id": "7413a0bf",
   "metadata": {},
   "outputs": [],
   "source": [
    "# Note the cost is over twice as much because we have more than twice as many characters"
   ]
  },
  {
   "cell_type": "code",
   "execution_count": null,
   "id": "7a2f9a2b",
   "metadata": {},
   "outputs": [],
   "source": [
    "# $4.50 for ada would be $337.16 on davinci for reference"
   ]
  },
  {
   "cell_type": "code",
   "execution_count": 230,
   "id": "b0adacc8",
   "metadata": {},
   "outputs": [
    {
     "name": "stdout",
     "output_type": "stream",
     "text": [
      "[2023-03-19 15:30:59] Created fine-tune: ft-uJlrLMWlvOMmj1v5mJ1Y0P9Q\n",
      "[2023-03-19 15:37:54] Fine-tune costs $4.50\n",
      "[2023-03-19 15:37:55] Fine-tune enqueued. Queue number: 0\n",
      "[2023-03-19 15:37:55] Fine-tune started\n",
      "[2023-03-19 15:44:06] Completed epoch 1/10\n",
      "[2023-03-19 15:55:36] Completed epoch 3/10\n",
      "[2023-03-19 16:01:21] Completed epoch 4/10\n",
      "[2023-03-19 16:07:06] Completed epoch 5/10\n",
      "[2023-03-19 16:12:52] Completed epoch 6/10\n",
      "[2023-03-19 16:18:37] Completed epoch 7/10\n",
      "[2023-03-19 16:24:29] Completed epoch 8/10\n",
      "[2023-03-19 16:30:21] Completed epoch 9/10\n",
      "[2023-03-19 16:36:14] Completed epoch 10/10\n",
      "[2023-03-19 16:36:36] Uploaded model: ada:ft-personal-2023-03-19-23-36-36\n",
      "[2023-03-19 16:36:37] Uploaded result file: file-x37bSOqbcJhxZU37gw3RZoEZ\n",
      "[2023-03-19 16:36:37] Fine-tune succeeded\n",
      "\n",
      "Job complete! Status: succeeded 🎉\n",
      "Try out your fine-tuned model:\n",
      "\n",
      "openai api completions.create -m ada:ft-personal-2023-03-19-23-36-36 -p <YOUR_PROMPT>\n"
     ]
    }
   ],
   "source": [
    "!openai api fine_tunes.follow -i ft-uJlrLMWlvOMmj1v5mJ1Y0P9Q"
   ]
  },
  {
   "cell_type": "code",
   "execution_count": 231,
   "id": "f26905f6",
   "metadata": {
    "scrolled": true
   },
   "outputs": [
    {
     "name": "stdout",
     "output_type": "stream",
     "text": [
      "\u001b[34m\u001b[1mwandb\u001b[0m: Currently logged in as: \u001b[33mprofoz\u001b[0m. Use \u001b[1m`wandb login --relogin`\u001b[0m to force relogin\n",
      "\u001b[34m\u001b[1mwandb\u001b[0m: Tracking run with wandb version 0.14.0\n",
      "\u001b[34m\u001b[1mwandb\u001b[0m: Run data is saved locally in \u001b[35m\u001b[1m/Users/sinanozdemir/Teaching/Pearson/quick-start-llms/notebooks/wandb/run-20230319_164853-ft-uJlrLMWlvOMmj1v5mJ1Y0P9Q\u001b[0m\n",
      "\u001b[34m\u001b[1mwandb\u001b[0m: Run \u001b[1m`wandb offline`\u001b[0m to turn off syncing.\n",
      "\u001b[34m\u001b[1mwandb\u001b[0m: Syncing run \u001b[33mft-uJlrLMWlvOMmj1v5mJ1Y0P9Q\u001b[0m\n",
      "\u001b[34m\u001b[1mwandb\u001b[0m: ⭐️ View project at \u001b[34m\u001b[4mhttps://wandb.ai/profoz/GPT-3\u001b[0m\n",
      "\u001b[34m\u001b[1mwandb\u001b[0m: 🚀 View run at \u001b[34m\u001b[4mhttps://wandb.ai/profoz/GPT-3/runs/ft-uJlrLMWlvOMmj1v5mJ1Y0P9Q\u001b[0m\n",
      "\u001b[34m\u001b[1mwandb\u001b[0m: Waiting for W&B process to finish... \u001b[32m(success).\u001b[0m\n",
      "\u001b[34m\u001b[1mwandb\u001b[0m: \n",
      "\u001b[34m\u001b[1mwandb\u001b[0m: Run history:\n",
      "\u001b[34m\u001b[1mwandb\u001b[0m:             elapsed_examples ▁▁▁▁▂▂▂▂▂▃▃▃▃▃▃▄▄▄▄▄▅▅▅▅▅▅▆▆▆▆▆▇▇▇▇▇▇███\n",
      "\u001b[34m\u001b[1mwandb\u001b[0m:               elapsed_tokens ▁▁▁▁▂▂▂▂▂▃▃▃▃▃▃▄▄▄▄▄▅▅▅▅▅▅▆▆▆▆▆▇▇▇▇▇▇███\n",
      "\u001b[34m\u001b[1mwandb\u001b[0m:                training_loss ▇▅▅▇▄▇▇█▄▅▅▄▃▃▄▃▃▄▃▃▃▃▂▃▂▂▂▂▂▁▂▂▁▁▁▁▁▁▁▁\n",
      "\u001b[34m\u001b[1mwandb\u001b[0m:   training_sequence_accuracy ▁▁▁▁▁▁▁▁▁▁▁▁▁▁▁▁▁▁▁▁▁▁▁▁▁▁▁▁▃▂▁▅▄▁▃▂▅▆▆█\n",
      "\u001b[34m\u001b[1mwandb\u001b[0m:      training_token_accuracy ▁▂▃▃▅▂▃▂▅▃▄▅▅▅▅▄▆▄▅▅▆▆▆▆▇▇▇▆▇█▇▇████████\n",
      "\u001b[34m\u001b[1mwandb\u001b[0m:              validation_loss ▆▃▅▂▂▂▃▃▃▅▄▂▅▃▃▃▃▁▅▃▄▄▃▂▅▂▃▅▅▃▃▃▃▄▄█▇█▅▄\n",
      "\u001b[34m\u001b[1mwandb\u001b[0m: validation_sequence_accuracy ▁▁▁▁▁▁▁▁▁▁▁▁▁▁▁▁▁▁▁▁▁▁▁▁▁▁▁▁▁▁▁▁▁▁▁▁▁▁▁▁\n",
      "\u001b[34m\u001b[1mwandb\u001b[0m:    validation_token_accuracy ▁▃▂▄▅▅▄▅▅▃▅▇▄▆▆▆█▇▅█▅▄▅▇▃▇▆▅▅▇▇▆▇▆▅▃▄▅▆▆\n",
      "\u001b[34m\u001b[1mwandb\u001b[0m: \n",
      "\u001b[34m\u001b[1mwandb\u001b[0m: Run summary:\n",
      "\u001b[34m\u001b[1mwandb\u001b[0m:             elapsed_examples 74736.0\n",
      "\u001b[34m\u001b[1mwandb\u001b[0m:               elapsed_tokens 18249392.0\n",
      "\u001b[34m\u001b[1mwandb\u001b[0m:             fine_tuned_model ada:ft-personal-2023...\n",
      "\u001b[34m\u001b[1mwandb\u001b[0m:                       status succeeded\n",
      "\u001b[34m\u001b[1mwandb\u001b[0m:                training_loss 0.02276\n",
      "\u001b[34m\u001b[1mwandb\u001b[0m:   training_sequence_accuracy 0.375\n",
      "\u001b[34m\u001b[1mwandb\u001b[0m:      training_token_accuracy 0.99007\n",
      "\u001b[34m\u001b[1mwandb\u001b[0m:              validation_loss 0.44116\n",
      "\u001b[34m\u001b[1mwandb\u001b[0m: validation_sequence_accuracy 0.0\n",
      "\u001b[34m\u001b[1mwandb\u001b[0m:    validation_token_accuracy 0.77743\n",
      "\u001b[34m\u001b[1mwandb\u001b[0m: \n",
      "\u001b[34m\u001b[1mwandb\u001b[0m: 🚀 View run \u001b[33mft-uJlrLMWlvOMmj1v5mJ1Y0P9Q\u001b[0m at: \u001b[34m\u001b[4mhttps://wandb.ai/profoz/GPT-3/runs/ft-uJlrLMWlvOMmj1v5mJ1Y0P9Q\u001b[0m\n",
      "\u001b[34m\u001b[1mwandb\u001b[0m: Synced 4 W&B file(s), 0 media file(s), 5 artifact file(s) and 0 other file(s)\n",
      "\u001b[34m\u001b[1mwandb\u001b[0m: Find logs at: \u001b[35m\u001b[1m./wandb/run-20230319_164853-ft-uJlrLMWlvOMmj1v5mJ1Y0P9Q/logs\u001b[0m\n",
      "🎉 wandb sync completed successfully\n"
     ]
    }
   ],
   "source": [
    "!openai wandb sync -i ft-uJlrLMWlvOMmj1v5mJ1Y0P9Q\n"
   ]
  },
  {
   "cell_type": "code",
   "execution_count": 325,
   "id": "47ffa94c",
   "metadata": {},
   "outputs": [
    {
     "data": {
      "text/plain": [
       "<matplotlib.axes._subplots.AxesSubplot at 0x1158cb4f0>"
      ]
     },
     "execution_count": 325,
     "metadata": {},
     "output_type": "execute_result"
    },
    {
     "data": {
      "image/png": "[encoded data removed]",
      "text/plain": [
       "<Figure size 640x480 with 1 Axes>"
      ]
     },
     "metadata": {},
     "output_type": "display_data"
    }
   ],
   "source": [
    "!openai api fine_tunes.results -i ft-uJlrLMWlvOMmj1v5mJ1Y0P9Q > cot_result.csv\n",
    "\n",
    "pd.read_csv('cot_result.csv')['validation_loss'].dropna().plot()"
   ]
  },
  {
   "cell_type": "code",
   "execution_count": 254,
   "id": "8240eaa1",
   "metadata": {},
   "outputs": [
    {
     "data": {
      "text/plain": [
       "{'prompt': \"Janet’s ducks lay 16 eggs per day. She eats three for breakfast every morning and bakes muffins for her friends every day with four. She sells the remainder at the farmers' market daily for $2 per fresh duck egg. How much in dollars does she make every day at the farmers' market?\",\n",
       " 'completion': ' 18'}"
      ]
     },
     "execution_count": 254,
     "metadata": {},
     "output_type": "execute_result"
    }
   ],
   "source": [
    "testing_rows[0]"
   ]
  },
  {
   "cell_type": "code",
   "execution_count": null,
   "id": "8ae44da8",
   "metadata": {},
   "outputs": [],
   "source": []
  },
  {
   "cell_type": "code",
   "execution_count": 672,
   "id": "767827eb",
   "metadata": {},
   "outputs": [
    {
     "name": "stdout",
     "output_type": "stream",
     "text": [
      "accuracy: 0.06974981046247157\n",
      "mae: 4.3651067153720676e+275\n",
      "rmse: inf\n"
     ]
    }
   ],
   "source": [
    "results = evaluate_performance('ada:ft-personal-2023-03-19-23-36-36', main_testing_rows, '####', temperature=0)\n",
    "\n",
    "for key, value in results.items():\n",
    "    print(f'{key}: {value:.2f}')"
   ]
  },
  {
   "cell_type": "markdown",
   "id": "1757538d",
   "metadata": {},
   "source": [
    "# Socratic Chain of Thought"
   ]
  },
  {
   "cell_type": "code",
   "execution_count": 234,
   "id": "321f772f",
   "metadata": {},
   "outputs": [
    {
     "name": "stderr",
     "output_type": "stream",
     "text": [
      "Found cached dataset gsm8k (/Users/sinanozdemir/.cache/huggingface/datasets/gsm8k/socratic/1.1.0/37bfb08b1d4fcbb01f06b03d9e1ef5f1fcbd4d3af3d08842c50d7305091285ba)\n"
     ]
    },
    {
     "data": {
      "application/vnd.jupyter.widget-view+json": {
       "model_id": "6eb245445e794fd18ac7a2cb0d6702b9",
       "version_major": 2,
       "version_minor": 0
      },
      "text/plain": [
       "  0%|          | 0/2 [00:00<?, ?it/s]"
      ]
     },
     "metadata": {},
     "output_type": "display_data"
    }
   ],
   "source": [
    "socratic_dataset = load_dataset(\"gsm8k\", \"socratic\")\n",
    "\n",
    "socratic_training_rows, socratic_testing_rows = [], []\n",
    "\n",
    "for row in list(socratic_dataset['train']):\n",
    "    # don't forget the space before the label. It's not technically required, but GPT is\n",
    "    # used to predicing a space so it will make the training easier\n",
    "    socratic_training_rows.append({\"prompt\": row['question'], \"completion\": ' ' + row['answer']})\n",
    "\n",
    "for row in list(socratic_dataset['test']):\n",
    "    # don't forget the space before the label. It's not technically required, but GPT is\n",
    "    # used to predicing a space so it will make the training easier\n",
    "    socratic_testing_rows.append({\"prompt\": row['question'], \"completion\": ' ' + row['answer']})\n",
    "\n",
    "\n",
    "with open('../data/openai-train-cot-socratic.jsonl', 'w') as outfile:\n",
    "    for entry in socratic_training_rows:\n",
    "        json.dump(entry, outfile)\n",
    "        outfile.write('\\n')\n",
    "        \n",
    "\n",
    "with open('../data/openai-validation-cot-socratic.jsonl', 'w') as outfile:\n",
    "    for entry in socratic_testing_rows:\n",
    "        json.dump(entry, outfile)\n",
    "        outfile.write('\\n')"
   ]
  },
  {
   "cell_type": "code",
   "execution_count": 235,
   "id": "9ec1a5b2",
   "metadata": {},
   "outputs": [
    {
     "data": {
      "text/plain": [
       "6069987"
      ]
     },
     "execution_count": 235,
     "metadata": {},
     "output_type": "execute_result"
    }
   ],
   "source": [
    "sum([len(socratic_training_rows['prompt'] + socratic_training_rows['completion']) for socratic_training_rows in socratic_training_rows]) + \\\n",
    "sum([len(socratic_testing_row['prompt'] + socratic_testing_row['completion']) for socratic_testing_row in socratic_testing_rows])\n"
   ]
  },
  {
   "cell_type": "code",
   "execution_count": null,
   "id": "844f06b8",
   "metadata": {},
   "outputs": [],
   "source": []
  },
  {
   "cell_type": "code",
   "execution_count": 236,
   "id": "bf4bf320",
   "metadata": {},
   "outputs": [],
   "source": [
    "# I'd expect 6069987 / 4612419 * $4.50 ~ $5.92 for this training (How's that for some chain of thought prompting?)\n",
    "# Don't forget it's charged by the token, but I assume a linear relationship so the ratio should still be roughly OK"
   ]
  },
  {
   "cell_type": "code",
   "execution_count": 237,
   "id": "321c1ca8",
   "metadata": {},
   "outputs": [
    {
     "name": "stdout",
     "output_type": "stream",
     "text": [
      "Upload progress: 100%|████████████████████| 5.42M/5.42M [00:00<00:00, 2.19Git/s]\n",
      "Uploaded file from ../data/openai-train-cot-socratic.jsonl: file-1I9DKcUGr0hrYjRQzoDowjiM\n",
      "Upload progress: 100%|███████████████████████| 977k/977k [00:00<00:00, 386Mit/s]\n",
      "Uploaded file from ../data/openai-validation-cot-socratic.jsonl: file-UzwI4ClJmSJk3ssyDkUlIt5S\n",
      "Created fine-tune: ft-g6t3MmlcCDKh3CxMPOnTi3gj\n",
      "Streaming events until fine-tuning is complete...\n",
      "\n",
      "(Ctrl-C will interrupt the stream, but not cancel the fine-tune)\n",
      "[2023-03-19 16:49:32] Created fine-tune: ft-g6t3MmlcCDKh3CxMPOnTi3gj\n",
      "\n",
      "Stream interrupted (client disconnected).\n",
      "To resume the stream, run:\n",
      "\n",
      "  openai api fine_tunes.follow -i ft-g6t3MmlcCDKh3CxMPOnTi3gj\n",
      "\n"
     ]
    }
   ],
   "source": [
    "!openai api fine_tunes.create --training_file \"../data/openai-train-cot-socratic.jsonl\" --validation_file \"../data/openai-validation-cot-socratic.jsonl\" --model \"ada\" --n_epochs 10\n"
   ]
  },
  {
   "cell_type": "code",
   "execution_count": 246,
   "id": "e1558471",
   "metadata": {},
   "outputs": [
    {
     "name": "stdout",
     "output_type": "stream",
     "text": [
      "[2023-03-19 16:49:32] Created fine-tune: ft-g6t3MmlcCDKh3CxMPOnTi3gj\n",
      "[2023-03-19 16:55:14] Fine-tune costs $5.64\n",
      "[2023-03-19 16:55:15] Fine-tune enqueued. Queue number: 0\n",
      "[2023-03-19 16:55:18] Fine-tune started\n",
      "[2023-03-19 17:01:29] Completed epoch 1/10\n",
      "[2023-03-19 17:07:18] Completed epoch 2/10\n",
      "[2023-03-19 17:13:08] Completed epoch 3/10\n",
      "[2023-03-19 17:18:59] Completed epoch 4/10\n",
      "[2023-03-19 17:24:49] Completed epoch 5/10\n",
      "[2023-03-19 17:30:38] Completed epoch 6/10\n",
      "[2023-03-19 17:36:29] Completed epoch 7/10\n",
      "[2023-03-19 17:42:19] Completed epoch 8/10\n",
      "[2023-03-19 17:48:08] Completed epoch 9/10\n",
      "[2023-03-19 17:53:57] Completed epoch 10/10\n",
      "[2023-03-19 17:54:19] Uploaded model: ada:ft-personal-2023-03-20-00-54-19\n",
      "[2023-03-19 17:54:21] Uploaded result file: file-UG483FmariRlrogoYoAAgvhW\n",
      "[2023-03-19 17:54:21] Fine-tune succeeded\n",
      "\n",
      "Job complete! Status: succeeded 🎉\n",
      "Try out your fine-tuned model:\n",
      "\n",
      "openai api completions.create -m ada:ft-personal-2023-03-20-00-54-19 -p <YOUR_PROMPT>\n"
     ]
    }
   ],
   "source": [
    "!openai api fine_tunes.follow -i ft-g6t3MmlcCDKh3CxMPOnTi3gj"
   ]
  },
  {
   "cell_type": "code",
   "execution_count": null,
   "id": "64be153c",
   "metadata": {},
   "outputs": [],
   "source": []
  },
  {
   "cell_type": "code",
   "execution_count": 247,
   "id": "452cc315",
   "metadata": {
    "scrolled": true
   },
   "outputs": [
    {
     "name": "stdout",
     "output_type": "stream",
     "text": [
      "\u001b[34m\u001b[1mwandb\u001b[0m: Currently logged in as: \u001b[33mprofoz\u001b[0m. Use \u001b[1m`wandb login --relogin`\u001b[0m to force relogin\n",
      "\u001b[34m\u001b[1mwandb\u001b[0m: Tracking run with wandb version 0.14.0\n",
      "\u001b[34m\u001b[1mwandb\u001b[0m: Run data is saved locally in \u001b[35m\u001b[1m/Users/sinanozdemir/Teaching/Pearson/quick-start-llms/notebooks/wandb/run-20230319_175536-ft-g6t3MmlcCDKh3CxMPOnTi3gj\u001b[0m\n",
      "\u001b[34m\u001b[1mwandb\u001b[0m: Run \u001b[1m`wandb offline`\u001b[0m to turn off syncing.\n",
      "\u001b[34m\u001b[1mwandb\u001b[0m: Syncing run \u001b[33mft-g6t3MmlcCDKh3CxMPOnTi3gj\u001b[0m\n",
      "\u001b[34m\u001b[1mwandb\u001b[0m: ⭐️ View project at \u001b[34m\u001b[4mhttps://wandb.ai/profoz/GPT-3\u001b[0m\n",
      "\u001b[34m\u001b[1mwandb\u001b[0m: 🚀 View run at \u001b[34m\u001b[4mhttps://wandb.ai/profoz/GPT-3/runs/ft-g6t3MmlcCDKh3CxMPOnTi3gj\u001b[0m\n",
      "\u001b[34m\u001b[1mwandb\u001b[0m: Waiting for W&B process to finish... \u001b[32m(success).\u001b[0m\n",
      "\u001b[34m\u001b[1mwandb\u001b[0m: | 12.019 MB of 12.019 MB uploaded (0.000 MB deduped)\n",
      "\u001b[34m\u001b[1mwandb\u001b[0m: Run history:\n",
      "\u001b[34m\u001b[1mwandb\u001b[0m:             elapsed_examples ▁▁▁▁▂▂▂▂▂▃▃▃▃▃▃▄▄▄▄▄▅▅▅▅▅▅▆▆▆▆▆▇▇▇▇▇▇███\n",
      "\u001b[34m\u001b[1mwandb\u001b[0m:               elapsed_tokens ▁▁▁▁▂▂▂▂▂▃▃▃▃▃▃▄▄▄▄▄▅▅▅▅▅▅▆▆▆▆▆▇▇▇▇▇▇███\n",
      "\u001b[34m\u001b[1mwandb\u001b[0m:                training_loss ▆█▅▇▆▆▇▄▅▄▄▇▄▄▅▅▄▄▅▅▄▃▃▃▂▂▂▃▂▂▁▂▁▁▁▁▁▁▁▁\n",
      "\u001b[34m\u001b[1mwandb\u001b[0m:   training_sequence_accuracy ▁▁▁▁▁▁▁▁▁▁▁▁▁▁▁▁▁▁▁▁▁▁▁▁▁▁▂▂▁▂▅▂▄▅▇▄▇▇▄█\n",
      "\u001b[34m\u001b[1mwandb\u001b[0m:      training_token_accuracy ▁▁▂▁▂▃▂▄▄▄▃▂▄▄▃▄▅▅▄▄▄▆▅▅▆▆▆▆▇▇██████████\n",
      "\u001b[34m\u001b[1mwandb\u001b[0m:              validation_loss ▂▂▃▂▂▃▃▂▆▃▆▂▂▃▃▄▁▄▂▄▂▁▁▄▁▂▄▁▁▂█▆▇▄▅▅▃▅▃▅\n",
      "\u001b[34m\u001b[1mwandb\u001b[0m: validation_sequence_accuracy ▁▁▁▁▁▁▁▁▁▁▁▁▁▁▁▁▁▁▁▁▁▁▁▁▁▁▁▁▁▁▁▁▁▁▁▁▁▁▁▁\n",
      "\u001b[34m\u001b[1mwandb\u001b[0m:    validation_token_accuracy ▄▄▅▆▇▄▅▃▂▃▁▄▆▂▅▅▅▅▇▄▆██▃▇▇▅▆▆▇▃▃▃▅▆▅▅▆█▂\n",
      "\u001b[34m\u001b[1mwandb\u001b[0m: \n",
      "\u001b[34m\u001b[1mwandb\u001b[0m: Run summary:\n",
      "\u001b[34m\u001b[1mwandb\u001b[0m:             elapsed_examples 74744.0\n",
      "\u001b[34m\u001b[1mwandb\u001b[0m:               elapsed_tokens 22859768.0\n",
      "\u001b[34m\u001b[1mwandb\u001b[0m:             fine_tuned_model ada:ft-personal-2023...\n",
      "\u001b[34m\u001b[1mwandb\u001b[0m:                       status succeeded\n",
      "\u001b[34m\u001b[1mwandb\u001b[0m:                training_loss 0.02226\n",
      "\u001b[34m\u001b[1mwandb\u001b[0m:   training_sequence_accuracy 0.875\n",
      "\u001b[34m\u001b[1mwandb\u001b[0m:      training_token_accuracy 0.99782\n",
      "\u001b[34m\u001b[1mwandb\u001b[0m:              validation_loss 0.49877\n",
      "\u001b[34m\u001b[1mwandb\u001b[0m: validation_sequence_accuracy 0.0\n",
      "\u001b[34m\u001b[1mwandb\u001b[0m:    validation_token_accuracy 0.7716\n",
      "\u001b[34m\u001b[1mwandb\u001b[0m: \n",
      "\u001b[34m\u001b[1mwandb\u001b[0m: 🚀 View run \u001b[33mft-g6t3MmlcCDKh3CxMPOnTi3gj\u001b[0m at: \u001b[34m\u001b[4mhttps://wandb.ai/profoz/GPT-3/runs/ft-g6t3MmlcCDKh3CxMPOnTi3gj\u001b[0m\n",
      "\u001b[34m\u001b[1mwandb\u001b[0m: Synced 4 W&B file(s), 0 media file(s), 5 artifact file(s) and 0 other file(s)\n",
      "\u001b[34m\u001b[1mwandb\u001b[0m: Find logs at: \u001b[35m\u001b[1m./wandb/run-20230319_175536-ft-g6t3MmlcCDKh3CxMPOnTi3gj/logs\u001b[0m\n",
      "🎉 wandb sync completed successfully\n"
     ]
    }
   ],
   "source": [
    "!openai wandb sync -i ft-g6t3MmlcCDKh3CxMPOnTi3gj\n"
   ]
  },
  {
   "cell_type": "code",
   "execution_count": 327,
   "id": "5ebf22bd",
   "metadata": {},
   "outputs": [
    {
     "data": {
      "text/plain": [
       "<matplotlib.axes._subplots.AxesSubplot at 0x11593d8a0>"
      ]
     },
     "execution_count": 327,
     "metadata": {},
     "output_type": "execute_result"
    },
    {
     "data": {
      "image/png": "[encoded data removed]",
      "text/plain": [
       "<Figure size 640x480 with 1 Axes>"
      ]
     },
     "metadata": {},
     "output_type": "display_data"
    }
   ],
   "source": [
    "!openai api fine_tunes.results -i ft-g6t3MmlcCDKh3CxMPOnTi3gj > cot_soc_result.csv\n",
    "\n",
    "pd.read_csv('cot_soc_result.csv')['validation_loss'].dropna().plot()"
   ]
  },
  {
   "cell_type": "code",
   "execution_count": 313,
   "id": "efd7fc23",
   "metadata": {},
   "outputs": [
    {
     "data": {
      "text/plain": [
       "{'prompt': 'Carlos is planting a lemon tree. The tree will cost $90 to plant. Each year it will grow 7 lemons, which he can sell for $1.5 each. It costs $3 a year to water and feed the tree. How many years will it take before he starts earning money on the lemon tree?',\n",
       " 'completion': ' How many lemons does Carlos sell each year? ** He makes $10.5 selling lemons each year because 7 x 1.5 = <<7*1.5=10.5>>10.5\\nHow much money does Carlos earn from the lemon tree each year? ** He earns $7.5 each year from the lemon tree because 10.5 - 3 = <<10.5-3=7.5>>7.5\\nHow many years will it take before he starts earning money on the lemon tree? ** It will take 12 years to earn enough to pay off the tree because 90 / 7.5 = <<90/7.5=12>>12\\nHow many years will it take before he starts earning money on the lemon tree? ** He will make money in year 13 because 12 + 1 = <<12+1=13>>13\\n#### 13'}"
      ]
     },
     "execution_count": 313,
     "metadata": {},
     "output_type": "execute_result"
    }
   ],
   "source": [
    "socratic_testing_rows[12]"
   ]
  },
  {
   "cell_type": "code",
   "execution_count": 310,
   "id": "43838ccb",
   "metadata": {},
   "outputs": [],
   "source": [
    "# TODO try a pre-training on documentation of the socratic method and then the socratic data??"
   ]
  },
  {
   "cell_type": "code",
   "execution_count": 630,
   "id": "24d76188",
   "metadata": {},
   "outputs": [
    {
     "name": "stderr",
     "output_type": "stream",
     "text": [
      "100%|██████████████████████████████████████████████████████████████████████| 1319/1319 [43:04<00:00,  1.96s/it]"
     ]
    },
    {
     "name": "stdout",
     "output_type": "stream",
     "text": [
      "accuracy: 0.08\n",
      "mae: 21703.73\n",
      "rmse: 354397.15\n"
     ]
    },
    {
     "name": "stderr",
     "output_type": "stream",
     "text": [
      "\n"
     ]
    }
   ],
   "source": [
    "results = evaluate_performance('ada:ft-personal-2023-03-20-00-54-19', socratic_testing_rows, '####', temperature=0)\n",
    "\n",
    "for key, value in results.items():\n",
    "    print(f'{key}: {value:.2f}')"
   ]
  },
  {
   "cell_type": "code",
   "execution_count": 328,
   "id": "37e1da4b",
   "metadata": {},
   "outputs": [],
   "source": [
    "# ● Instruct GPT-3 (ada 350M, babbage 1.3B, curie 6.7B, and davinci 175B) (Ouyang et al., 2022)\n",
    "# https://paperswithcode.com/sota/arithmetic-reasoning-on-gsm8k\n",
    "# https://www.cs.princeton.edu/courses/archive/fall22/cos597G/lectures/lec09.pdf"
   ]
  },
  {
   "cell_type": "code",
   "execution_count": null,
   "id": "a15823fc",
   "metadata": {},
   "outputs": [],
   "source": []
  },
  {
   "cell_type": "code",
   "execution_count": null,
   "id": "8ad8f03d",
   "metadata": {},
   "outputs": [],
   "source": [
    "# train socratic on 4 epochs"
   ]
  },
  {
   "cell_type": "code",
   "execution_count": 332,
   "id": "cce248ca",
   "metadata": {},
   "outputs": [
    {
     "name": "stdout",
     "output_type": "stream",
     "text": [
      "Created fine-tune: ft-ylTGR76hLtJM2F4mVuFThlEA\n",
      "Streaming events until fine-tuning is complete...\n",
      "\n",
      "(Ctrl-C will interrupt the stream, but not cancel the fine-tune)\n",
      "[2023-03-21 21:09:03] Created fine-tune: ft-ylTGR76hLtJM2F4mVuFThlEA\n",
      "^C\n"
     ]
    }
   ],
   "source": [
    "!openai api fine_tunes.create --training_file \"file-1I9DKcUGr0hrYjRQzoDowjiM\" --validation_file \"file-UzwI4ClJmSJk3ssyDkUlIt5S\" --model \"ada\" --n_epochs 4\n"
   ]
  },
  {
   "cell_type": "code",
   "execution_count": 343,
   "id": "cf0fe9c8",
   "metadata": {},
   "outputs": [
    {
     "name": "stdout",
     "output_type": "stream",
     "text": [
      "[2023-03-21 21:09:03] Created fine-tune: ft-ylTGR76hLtJM2F4mVuFThlEA\n",
      "[2023-03-21 21:12:26] Fine-tune costs $2.26\n",
      "[2023-03-21 21:12:27] Fine-tune enqueued\n",
      "[2023-03-21 23:19:15] Fine-tune is in the queue. Queue number: 31\n",
      "[2023-03-21 23:19:16] Fine-tune is in the queue. Queue number: 30\n",
      "[2023-03-21 23:20:00] Fine-tune is in the queue. Queue number: 29\n",
      "[2023-03-21 23:20:43] Fine-tune is in the queue. Queue number: 28\n",
      "[2023-03-21 23:20:43] Fine-tune is in the queue. Queue number: 27\n",
      "[2023-03-21 23:21:17] Fine-tune is in the queue. Queue number: 26\n",
      "[2023-03-21 23:26:54] Fine-tune is in the queue. Queue number: 25\n",
      "[2023-03-21 23:27:54] Fine-tune is in the queue. Queue number: 24\n",
      "[2023-03-21 23:30:20] Fine-tune is in the queue. Queue number: 23\n",
      "[2023-03-21 23:31:00] Fine-tune is in the queue. Queue number: 22\n",
      "[2023-03-21 23:34:25] Fine-tune is in the queue. Queue number: 21\n",
      "[2023-03-21 23:42:54] Fine-tune is in the queue. Queue number: 20\n",
      "[2023-03-21 23:43:17] Fine-tune is in the queue. Queue number: 19\n",
      "[2023-03-21 23:43:41] Fine-tune is in the queue. Queue number: 18\n",
      "[2023-03-21 23:44:39] Fine-tune is in the queue. Queue number: 17\n",
      "[2023-03-21 23:47:14] Fine-tune is in the queue. Queue number: 16\n",
      "[2023-03-21 23:47:48] Fine-tune is in the queue. Queue number: 15\n",
      "[2023-03-21 23:47:49] Fine-tune is in the queue. Queue number: 14\n",
      "[2023-03-21 23:47:51] Fine-tune is in the queue. Queue number: 13\n",
      "[2023-03-21 23:51:27] Fine-tune is in the queue. Queue number: 12\n",
      "[2023-03-21 23:56:14] Fine-tune is in the queue. Queue number: 11\n",
      "[2023-03-22 00:03:05] Fine-tune is in the queue. Queue number: 10\n",
      "[2023-03-22 00:11:46] Fine-tune is in the queue. Queue number: 9\n",
      "[2023-03-22 00:18:04] Fine-tune is in the queue. Queue number: 8\n",
      "[2023-03-22 00:18:37] Fine-tune is in the queue. Queue number: 7\n",
      "[2023-03-22 00:26:05] Fine-tune is in the queue. Queue number: 6\n",
      "[2023-03-22 00:56:07] Fine-tune is in the queue. Queue number: 5\n",
      "[2023-03-22 00:56:08] Fine-tune is in the queue. Queue number: 4\n",
      "[2023-03-22 00:56:41] Fine-tune is in the queue. Queue number: 3\n",
      "[2023-03-22 01:08:57] Fine-tune is in the queue. Queue number: 2\n",
      "[2023-03-22 01:10:52] Fine-tune is in the queue. Queue number: 1\n",
      "[2023-03-22 01:11:23] Fine-tune is in the queue. Queue number: 0\n",
      "[2023-03-22 01:11:37] Fine-tune started\n",
      "[2023-03-22 01:17:54] Completed epoch 1/4\n",
      "[2023-03-22 01:23:49] Completed epoch 2/4\n",
      "[2023-03-22 01:29:44] Completed epoch 3/4\n",
      "[2023-03-22 01:35:40] Completed epoch 4/4\n",
      "[2023-03-22 01:36:02] Uploaded model: ada:ft-personal-2023-03-22-08-36-02\n",
      "[2023-03-22 01:36:03] Uploaded result file: file-jU31GiBVf9TXKvC5G1I9tCf0\n",
      "[2023-03-22 01:36:03] Fine-tune succeeded\n",
      "\n",
      "Job complete! Status: succeeded 🎉\n",
      "Try out your fine-tuned model:\n",
      "\n",
      "openai api completions.create -m ada:ft-personal-2023-03-22-08-36-02 -p <YOUR_PROMPT>\n"
     ]
    }
   ],
   "source": [
    "!openai api fine_tunes.follow -i ft-ylTGR76hLtJM2F4mVuFThlEA"
   ]
  },
  {
   "cell_type": "code",
   "execution_count": 344,
   "id": "067a0c89",
   "metadata": {},
   "outputs": [
    {
     "data": {
      "text/plain": [
       "<matplotlib.axes._subplots.AxesSubplot at 0x115b3e710>"
      ]
     },
     "execution_count": 344,
     "metadata": {},
     "output_type": "execute_result"
    },
    {
     "data": {
      "image/png": "[encoded data removed]",
      "text/plain": [
       "<Figure size 640x480 with 1 Axes>"
      ]
     },
     "metadata": {},
     "output_type": "display_data"
    }
   ],
   "source": [
    "!openai api fine_tunes.results -i ft-ylTGR76hLtJM2F4mVuFThlEA > cot_soc_result.csv\n",
    "\n",
    "pd.read_csv('cot_soc_result.csv')['validation_loss'].dropna().plot()"
   ]
  },
  {
   "cell_type": "code",
   "execution_count": 337,
   "id": "7f1cc4bf",
   "metadata": {},
   "outputs": [
    {
     "name": "stdout",
     "output_type": "stream",
     "text": [
      "[organization=user-9vr5p5naslsmcksivdeejxum] \u001b[91mError:\u001b[0m Cannot cancel a job ft-KoOEtt6ds473Lu94Pb41LOBj that already has status \"cancelled\". (HTTP status code: 400)\r\n"
     ]
    }
   ],
   "source": [
    "# !openai api fine_tunes.cancel -i ft-KoOEtt6ds473Lu94Pb41LOBj"
   ]
  },
  {
   "cell_type": "code",
   "execution_count": 493,
   "id": "57bdf6e8",
   "metadata": {},
   "outputs": [
    {
     "name": "stdout",
     "output_type": "stream",
     "text": [
      "ROW\n",
      "-----------\n",
      "{'prompt': 'Gunter is trying to count the jelly beans in a jar. He asks his friends how many they think are in the jar. One says 80. Another says 20 more than half the first one. A third says 25% more than the first one. What is their average guess?', 'completion': ' How many jelly beans does the second person guess? ** The second person guessed 60 because 20 + (80/2)= <<20+(80/2)=60>>60\\nHow many jelly beans does the second person guess? ** The second guessed 100 because 80 x 1.25 = <<80*1.25=100>>100\\nHow many jelly beans are in total? ** The total amount guessed is 240 because 80 + 60 + 100 = <<80+60+100=240>>240\\nWhat is the average amount guessed? ** The average amount guessed is 80 because 240 / 3 = <<240/3=80>>80\\n#### 80'}\n",
      "\n",
      "OPENAI RESPONSE\n",
      "-----------\n",
      " How many jelly beans are there? ** Half the first jar has 80 jelly beans.\n",
      "How many jelly beans are there? ** The first jar has 80/2 = <<80/2=40>>40 jelly beans.\n",
      "How many jelly beans are there? ** The second jar has 40+20 = <<40+20=60>>60 jelly beans.\n",
      "How many jelly beans are there? ** The third jar has 60*.25 = <<60*.25=15>>15 jelly beans.\n",
      "What is their average guess? ** Their average guess is 40-60-15 = <<40-60-15=5>>5 jelly beans.\n",
      "#### 5\n",
      "What is their average guess? ** Their average guess is 5 jelly beans.\n",
      "#### 5*3 = <<5*3=15>>15 jelly beans.\n",
      "#### 15% more than the first jar is 80+25% = 85%\n",
      "What is their average guess? ** Their average guess is 85% more than the first jar.\n",
      "#### 85%+5 = <<85*.01=9>>9 jelly beans.\n",
      "#### 9*3 = <<9*3=27>>27 jelly beans.\n",
      "#### 25% more than the first jar is 80+25% = 85\n",
      "\n",
      " 5\n",
      "What is their average guess? ** Their average guess is 5 jelly beans.\n",
      "\n",
      "\n"
     ]
    },
    {
     "data": {
      "text/plain": [
       "(80.0, 5.0, False)"
      ]
     },
     "execution_count": 493,
     "metadata": {},
     "output_type": "execute_result"
    }
   ],
   "source": [
    "test_testing_row(\n",
    "    socratic_testing_rows[31], 'ada:ft-personal-2023-03-22-08-36-02', verbose=True,\n",
    "    best_of=1, temperature=0\n",
    ")\n"
   ]
  },
  {
   "cell_type": "code",
   "execution_count": 631,
   "id": "c21d751e",
   "metadata": {},
   "outputs": [
    {
     "name": "stderr",
     "output_type": "stream",
     "text": [
      "100%|██████████████████████████████████████████████████████████████████████| 1319/1319 [43:35<00:00,  1.98s/it]"
     ]
    },
    {
     "name": "stdout",
     "output_type": "stream",
     "text": [
      "accuracy: 0.09\n",
      "mae: 30425.33\n",
      "rmse: 711837.57\n"
     ]
    },
    {
     "name": "stderr",
     "output_type": "stream",
     "text": [
      "\n"
     ]
    }
   ],
   "source": [
    "results = evaluate_performance('ada:ft-personal-2023-03-22-08-36-02', socratic_testing_rows, '####', temperature=0)\n",
    "\n",
    "for key, value in results.items():\n",
    "    print(f'{key}: {value:.2f}')"
   ]
  },
  {
   "cell_type": "code",
   "execution_count": 376,
   "id": "de922673",
   "metadata": {},
   "outputs": [
    {
     "data": {
      "text/plain": [
       "{'question': 'Natalia sold clips to 48 of her friends in April, and then she sold half as many clips in May. How many clips did Natalia sell altogether in April and May?',\n",
       " 'answer': 'How many clips did Natalia sell in May? ** Natalia sold 48/2 = <<48/2=24>>24 clips in May.\\nHow many clips did Natalia sell altogether in April and May? ** Natalia sold 48+24 = <<48+24=72>>72 clips altogether in April and May.\\n#### 72'}"
      ]
     },
     "execution_count": 376,
     "metadata": {},
     "output_type": "execute_result"
    }
   ],
   "source": [
    "socratic_dataset['train'][0]"
   ]
  },
  {
   "cell_type": "code",
   "execution_count": 418,
   "id": "a91a9d8a",
   "metadata": {},
   "outputs": [],
   "source": [
    "custom_socratic_training_rows, custom_socratic_testing_rows = [], []\n",
    "\n",
    "for row in list(socratic_dataset['train']):\n",
    "    # don't forget the space before the label. It's not technically required, but GPT is\n",
    "    # used to predicing a space so it will make the training easier\n",
    "    custom_socratic_training_rows.append({\"prompt\": 'Query: ' + row['question'] + '\\n\\nReasoning:', \"completion\": ' ' + row['answer'].replace('####', '\\nMy final answer is:')})\n",
    "\n",
    "for row in list(socratic_dataset['test']):\n",
    "    # don't forget the space before the label. It's not technically required, but GPT is\n",
    "    # used to predicing a space so it will make the training easier\n",
    "    custom_socratic_testing_rows.append({\"prompt\": 'Query: ' + row['question'] + '\\n\\nReasoning:', \"completion\": ' ' + row['answer'].replace('####', '\\nMy final answer is:')})\n",
    "\n",
    "\n",
    "with open('../data/openai-train-cot-custom-socratic.jsonl', 'w') as outfile:\n",
    "    for entry in custom_socratic_training_rows:\n",
    "        json.dump(entry, outfile)\n",
    "        outfile.write('\\n')\n",
    "        \n",
    "\n",
    "with open('../data/openai-validation-cot-custom-socratic.jsonl', 'w') as outfile:\n",
    "    for entry in custom_socratic_testing_rows:\n",
    "        json.dump(entry, outfile)\n",
    "        outfile.write('\\n')"
   ]
  },
  {
   "cell_type": "code",
   "execution_count": 414,
   "id": "8c5d25a0",
   "metadata": {},
   "outputs": [
    {
     "data": {
      "text/plain": [
       "{'prompt': \"Query: Janet’s ducks lay 16 eggs per day. She eats three for breakfast every morning and bakes muffins for her friends every day with four. She sells the remainder at the farmers' market daily for $2 per fresh duck egg. How much in dollars does she make every day at the farmers' market?\\n\\nReasoning:\",\n",
       " 'completion': \" How many eggs does Janet sell? ** Janet sells 16 - 3 - 4 = <<16-3-4=9>>9 duck eggs a day.\\nHow much does Janet make at the farmers' market? ** She makes 9 * 2 = $<<9*2=18>>18 every day at the farmer’s market.\\n\\nMy final answer is: 18\"}"
      ]
     },
     "execution_count": 414,
     "metadata": {},
     "output_type": "execute_result"
    }
   ],
   "source": [
    "custom_socratic_testing_rows[0]"
   ]
  },
  {
   "cell_type": "code",
   "execution_count": 422,
   "id": "c62d09c7",
   "metadata": {},
   "outputs": [
    {
     "name": "stdout",
     "output_type": "stream",
     "text": [
      "huggingface/tokenizers: The current process just got forked, after parallelism has already been used. Disabling parallelism to avoid deadlocks...\n",
      "To disable this warning, you can either:\n",
      "\t- Avoid using `tokenizers` before the fork if possible\n",
      "\t- Explicitly set the environment variable TOKENIZERS_PARALLELISM=(true | false)\n",
      "Found potentially duplicated files with name 'openai-train-cot-custom-socratic.jsonl', purpose 'fine-tune' and size 5708132 bytes\n",
      "file-gqlqNKZEgaEnP3J6iFYuzhSK\n",
      "Enter file ID to reuse an already uploaded file, or an empty string to upload this file anyway: ^C\n",
      "\n"
     ]
    }
   ],
   "source": [
    "!openai api fine_tunes.create --training_file \"../data/openai-train-cot-custom-socratic.jsonl\" --validation_file \"../data/openai-validation-cot-custom-socratic.jsonl\" --model \"ada\" --n_epochs 3\n"
   ]
  },
  {
   "cell_type": "code",
   "execution_count": 423,
   "id": "0cb0302f",
   "metadata": {},
   "outputs": [
    {
     "name": "stdout",
     "output_type": "stream",
     "text": [
      "huggingface/tokenizers: The current process just got forked, after parallelism has already been used. Disabling parallelism to avoid deadlocks...\n",
      "To disable this warning, you can either:\n",
      "\t- Avoid using `tokenizers` before the fork if possible\n",
      "\t- Explicitly set the environment variable TOKENIZERS_PARALLELISM=(true | false)\n",
      "[2023-03-24 13:04:46] Created fine-tune: ft-eNHJqC7Il1c4Y2O1gfUr2Ern\n",
      "[2023-03-24 13:07:28] Fine-tune costs $1.80\n",
      "[2023-03-24 13:07:29] Fine-tune enqueued. Queue number: 0\n",
      "[2023-03-24 13:08:00] Fine-tune started\n",
      "[2023-03-24 13:14:06] Completed epoch 1/3\n",
      "[2023-03-24 13:19:51] Completed epoch 2/3\n",
      "[2023-03-24 13:29:49] Fine-tune started\n",
      "[2023-03-24 13:36:00] Completed epoch 1/3\n",
      "[2023-03-24 13:41:49] Completed epoch 2/3\n",
      "[2023-03-24 13:47:36] Completed epoch 3/3\n",
      "[2023-03-24 13:48:00] Uploaded model: ada:ft-personal-2023-03-24-20-48-00\n",
      "[2023-03-24 13:48:01] Uploaded result file: file-L9YIhOeA1clULyVeUWa9HLal\n",
      "[2023-03-24 13:48:01] Fine-tune succeeded\n",
      "\n",
      "Job complete! Status: succeeded 🎉\n",
      "Try out your fine-tuned model:\n",
      "\n",
      "openai api completions.create -m ada:ft-personal-2023-03-24-20-48-00 -p <YOUR_PROMPT>\n"
     ]
    }
   ],
   "source": [
    "!openai api fine_tunes.follow -i ft-eNHJqC7Il1c4Y2O1gfUr2Ern"
   ]
  },
  {
   "cell_type": "code",
   "execution_count": 424,
   "id": "7d34aa00",
   "metadata": {},
   "outputs": [
    {
     "name": "stdout",
     "output_type": "stream",
     "text": [
      "huggingface/tokenizers: The current process just got forked, after parallelism has already been used. Disabling parallelism to avoid deadlocks...\n",
      "To disable this warning, you can either:\n",
      "\t- Avoid using `tokenizers` before the fork if possible\n",
      "\t- Explicitly set the environment variable TOKENIZERS_PARALLELISM=(true | false)\n"
     ]
    },
    {
     "data": {
      "text/plain": [
       "<matplotlib.axes._subplots.AxesSubplot at 0x2af77e650>"
      ]
     },
     "execution_count": 424,
     "metadata": {},
     "output_type": "execute_result"
    },
    {
     "data": {
      "image/png": "[encoded data removed]",
      "text/plain": [
       "<Figure size 640x480 with 1 Axes>"
      ]
     },
     "metadata": {},
     "output_type": "display_data"
    }
   ],
   "source": [
    "!openai api fine_tunes.results -i ft-eNHJqC7Il1c4Y2O1gfUr2Ern > cot_soc_result_custom.csv\n",
    "\n",
    "pd.read_csv('cot_soc_result_custom.csv')['validation_loss'].dropna().plot()"
   ]
  },
  {
   "cell_type": "code",
   "execution_count": null,
   "id": "eea8d2c3",
   "metadata": {},
   "outputs": [],
   "source": []
  },
  {
   "cell_type": "code",
   "execution_count": 412,
   "id": "8a5d3f3c",
   "metadata": {},
   "outputs": [
    {
     "data": {
      "text/plain": [
       "{'prompt': 'Query: Natalia sold clips to 48 of her friends in April, and then she sold half as many clips in May. How many clips did Natalia sell altogether in April and May?\\n\\nReasoning:',\n",
       " 'completion': ' How many clips did Natalia sell in May? ** Natalia sold 48/2 = <<48/2=24>>24 clips in May.\\nHow many clips did Natalia sell altogether in April and May? ** Natalia sold 48+24 = <<48+24=72>>72 clips altogether in April and May.\\n\\nMy final answer is: 72'}"
      ]
     },
     "execution_count": 412,
     "metadata": {},
     "output_type": "execute_result"
    }
   ],
   "source": [
    "custom_socratic_training_rows[0]"
   ]
  },
  {
   "cell_type": "code",
   "execution_count": 632,
   "id": "d0c87548",
   "metadata": {
    "scrolled": true
   },
   "outputs": [
    {
     "name": "stderr",
     "output_type": "stream",
     "text": [
      "100%|██████████████████████████████████████████████████████████████████████| 1319/1319 [46:04<00:00,  2.10s/it]"
     ]
    },
    {
     "name": "stdout",
     "output_type": "stream",
     "text": [
      "accuracy: 0.07\n",
      "mae: 56150.74\n",
      "rmse: 1658145.05\n"
     ]
    },
    {
     "name": "stderr",
     "output_type": "stream",
     "text": [
      "\n"
     ]
    }
   ],
   "source": [
    "results = evaluate_performance(\n",
    "    'ada:ft-personal-2023-03-24-20-48-00', custom_socratic_testing_rows, 'My final answer is:', temperature=0\n",
    ")\n",
    "\n",
    "for key, value in results.items():\n",
    "    print(f'{key}: {value:.2f}')"
   ]
  },
  {
   "cell_type": "code",
   "execution_count": 585,
   "id": "eba9cccc",
   "metadata": {},
   "outputs": [
    {
     "name": "stdout",
     "output_type": "stream",
     "text": [
      "huggingface/tokenizers: The current process just got forked, after parallelism has already been used. Disabling parallelism to avoid deadlocks...\n",
      "To disable this warning, you can either:\n",
      "\t- Avoid using `tokenizers` before the fork if possible\n",
      "\t- Explicitly set the environment variable TOKENIZERS_PARALLELISM=(true | false)\n",
      "Created fine-tune: ft-Ms483CO61JALOuyoJ1MF5cWI\n",
      "Streaming events until fine-tuning is complete...\n",
      "\n",
      "(Ctrl-C will interrupt the stream, but not cancel the fine-tune)\n",
      "[2023-03-26 07:46:23] Created fine-tune: ft-Ms483CO61JALOuyoJ1MF5cWI\n",
      "[2023-03-26 07:47:22] Fine-tune costs $12.69\n",
      "[2023-03-26 07:47:22] Fine-tune enqueued. Queue number: 0\n",
      "\n",
      "Stream interrupted (client disconnected).\n",
      "To resume the stream, run:\n",
      "\n",
      "  openai api fine_tunes.follow -i ft-Ms483CO61JALOuyoJ1MF5cWI\n",
      "\n"
     ]
    }
   ],
   "source": [
    "!openai api fine_tunes.create --training_file \"file-1I9DKcUGr0hrYjRQzoDowjiM\" --validation_file \"file-UzwI4ClJmSJk3ssyDkUlIt5S\" --model \"curie\" --n_epochs 3\n"
   ]
  },
  {
   "cell_type": "code",
   "execution_count": null,
   "id": "383a357e",
   "metadata": {},
   "outputs": [],
   "source": [
    "# $2.26 in ada became $12.69 in curie"
   ]
  },
  {
   "cell_type": "code",
   "execution_count": 598,
   "id": "cd868991",
   "metadata": {},
   "outputs": [
    {
     "name": "stdout",
     "output_type": "stream",
     "text": [
      "huggingface/tokenizers: The current process just got forked, after parallelism has already been used. Disabling parallelism to avoid deadlocks...\n",
      "To disable this warning, you can either:\n",
      "\t- Avoid using `tokenizers` before the fork if possible\n",
      "\t- Explicitly set the environment variable TOKENIZERS_PARALLELISM=(true | false)\n",
      "[2023-03-26 07:46:23] Created fine-tune: ft-Ms483CO61JALOuyoJ1MF5cWI\n",
      "[2023-03-26 07:47:22] Fine-tune costs $12.69\n",
      "[2023-03-26 07:47:22] Fine-tune enqueued. Queue number: 0\n",
      "[2023-03-26 07:47:25] Fine-tune started\n",
      "[2023-03-26 07:55:25] Completed epoch 1/3\n",
      "[2023-03-26 08:02:16] Completed epoch 2/3\n",
      "[2023-03-26 08:09:08] Completed epoch 3/3\n",
      "[2023-03-26 08:09:28] Uploaded model: curie:ft-personal-2023-03-26-15-09-27\n",
      "[2023-03-26 08:09:28] Uploaded result file: file-Ke696bsz6xjgxDv8M9HFDkSv\n",
      "[2023-03-26 08:09:28] Fine-tune succeeded\n",
      "\n",
      "Job complete! Status: succeeded 🎉\n",
      "Try out your fine-tuned model:\n",
      "\n",
      "openai api completions.create -m curie:ft-personal-2023-03-26-15-09-27 -p <YOUR_PROMPT>\n"
     ]
    }
   ],
   "source": [
    "!openai api fine_tunes.follow -i ft-Ms483CO61JALOuyoJ1MF5cWI"
   ]
  },
  {
   "cell_type": "code",
   "execution_count": 597,
   "id": "6aafeb58",
   "metadata": {
    "scrolled": true
   },
   "outputs": [
    {
     "name": "stdout",
     "output_type": "stream",
     "text": [
      "huggingface/tokenizers: The current process just got forked, after parallelism has already been used. Disabling parallelism to avoid deadlocks...\n",
      "To disable this warning, you can either:\n",
      "\t- Avoid using `tokenizers` before the fork if possible\n",
      "\t- Explicitly set the environment variable TOKENIZERS_PARALLELISM=(true | false)\n",
      "\u001b[34m\u001b[1mwandb\u001b[0m: Currently logged in as: \u001b[33mprofoz\u001b[0m. Use \u001b[1m`wandb login --relogin`\u001b[0m to force relogin\n",
      "\u001b[34m\u001b[1mwandb\u001b[0m: Tracking run with wandb version 0.14.0\n",
      "\u001b[34m\u001b[1mwandb\u001b[0m: Run data is saved locally in \u001b[35m\u001b[1m/Users/sinanozdemir/Teaching/Pearson/quick-start-llms/notebooks/wandb/run-20230326_091402-ft-Ms483CO61JALOuyoJ1MF5cWI\u001b[0m\n",
      "\u001b[34m\u001b[1mwandb\u001b[0m: Run \u001b[1m`wandb offline`\u001b[0m to turn off syncing.\n",
      "\u001b[34m\u001b[1mwandb\u001b[0m: Syncing run \u001b[33mft-Ms483CO61JALOuyoJ1MF5cWI\u001b[0m\n",
      "\u001b[34m\u001b[1mwandb\u001b[0m: ⭐️ View project at \u001b[34m\u001b[4mhttps://wandb.ai/profoz/GPT-3\u001b[0m\n",
      "\u001b[34m\u001b[1mwandb\u001b[0m: 🚀 View run at \u001b[34m\u001b[4mhttps://wandb.ai/profoz/GPT-3/runs/ft-Ms483CO61JALOuyoJ1MF5cWI\u001b[0m\n",
      "\u001b[34m\u001b[1mwandb\u001b[0m: Waiting for W&B process to finish... \u001b[32m(success).\u001b[0m\n",
      "\u001b[34m\u001b[1mwandb\u001b[0m: \n",
      "\u001b[34m\u001b[1mwandb\u001b[0m: Run history:\n",
      "\u001b[34m\u001b[1mwandb\u001b[0m:             elapsed_examples ▁▁▁▁▂▂▂▂▂▃▃▃▃▃▃▄▄▄▄▄▅▅▅▅▅▅▆▆▆▆▆▇▇▇▇▇▇███\n",
      "\u001b[34m\u001b[1mwandb\u001b[0m:               elapsed_tokens ▁▁▁▁▂▂▂▂▂▃▃▃▃▃▃▄▄▄▄▄▅▅▅▅▅▅▆▆▆▆▆▇▇▇▇▇▇███\n",
      "\u001b[34m\u001b[1mwandb\u001b[0m:                training_loss ▇▄▆█▆▇▆▆▅▇▄█▄▇▅▄▂▅▅▃▅▅▆▃▄▅▄▁▄▄▄▁▂▂▂▁▃▂▂▂\n",
      "\u001b[34m\u001b[1mwandb\u001b[0m:   training_sequence_accuracy ▁▁▁▁▁▁▁▁▁▁▁▁▁▁▁▁▁▁▁▁▁▁▁▁▁▁▁▁▁▁▁▁▁▁▁▁▁▁▁▁\n",
      "\u001b[34m\u001b[1mwandb\u001b[0m:      training_token_accuracy ▁▃▃▂▃▂▁▄▅▂▃▁▄▃▆▅▆▄▄▆▅▂▃▅▅▄▅▇▅▆▆▇▇▇██▆▇▇▆\n",
      "\u001b[34m\u001b[1mwandb\u001b[0m:              validation_loss ▄▄█▅▆▄▄▂▂▂▃▅▁▃▁▂▇▃▄▃▃▃▆▁▂▄▄▃▂▃▃▅▄▃▅▃▅▆▃▄\n",
      "\u001b[34m\u001b[1mwandb\u001b[0m: validation_sequence_accuracy ▁▁▁▁▁▁▁▁▁▁▁▁▁▁▁▁▁▁▁▁▁▁▁▁▁▁▁▁▁▁▁▁▁▁▁▁▁▁▁▁\n",
      "\u001b[34m\u001b[1mwandb\u001b[0m:    validation_token_accuracy ▃▄▁▅▂▅▄▅▆▆▅▄▇▆▇▆▄▆▆▅▅▅▄█▆▆▄▇▇▆▇▆▅▇▅▆▄▄▆▅\n",
      "\u001b[34m\u001b[1mwandb\u001b[0m: \n",
      "\u001b[34m\u001b[1mwandb\u001b[0m: Run summary:\n",
      "\u001b[34m\u001b[1mwandb\u001b[0m:             elapsed_examples 22432.0\n",
      "\u001b[34m\u001b[1mwandb\u001b[0m:               elapsed_tokens 6860832.0\n",
      "\u001b[34m\u001b[1mwandb\u001b[0m:             fine_tuned_model curie:ft-personal-20...\n",
      "\u001b[34m\u001b[1mwandb\u001b[0m:                       status succeeded\n",
      "\u001b[34m\u001b[1mwandb\u001b[0m:                training_loss 0.16723\n",
      "\u001b[34m\u001b[1mwandb\u001b[0m:   training_sequence_accuracy 0.0\n",
      "\u001b[34m\u001b[1mwandb\u001b[0m:      training_token_accuracy 0.89526\n",
      "\u001b[34m\u001b[1mwandb\u001b[0m:              validation_loss 0.25796\n",
      "\u001b[34m\u001b[1mwandb\u001b[0m: validation_sequence_accuracy 0.0\n",
      "\u001b[34m\u001b[1mwandb\u001b[0m:    validation_token_accuracy 0.85727\n",
      "\u001b[34m\u001b[1mwandb\u001b[0m: \n",
      "\u001b[34m\u001b[1mwandb\u001b[0m: 🚀 View run \u001b[33mft-Ms483CO61JALOuyoJ1MF5cWI\u001b[0m at: \u001b[34m\u001b[4mhttps://wandb.ai/profoz/GPT-3/runs/ft-Ms483CO61JALOuyoJ1MF5cWI\u001b[0m\n",
      "\u001b[34m\u001b[1mwandb\u001b[0m: Synced 4 W&B file(s), 0 media file(s), 1 artifact file(s) and 0 other file(s)\n",
      "\u001b[34m\u001b[1mwandb\u001b[0m: Find logs at: \u001b[35m\u001b[1m./wandb/run-20230326_091402-ft-Ms483CO61JALOuyoJ1MF5cWI/logs\u001b[0m\n",
      "🎉 wandb sync completed successfully\n",
      "huggingface/tokenizers: The current process just got forked, after parallelism has already been used. Disabling parallelism to avoid deadlocks...\n",
      "To disable this warning, you can either:\n",
      "\t- Avoid using `tokenizers` before the fork if possible\n",
      "\t- Explicitly set the environment variable TOKENIZERS_PARALLELISM=(true | false)\n"
     ]
    },
    {
     "data": {
      "text/plain": [
       "<matplotlib.axes._subplots.AxesSubplot at 0x2960b6a70>"
      ]
     },
     "execution_count": 597,
     "metadata": {},
     "output_type": "execute_result"
    },
    {
     "data": {
      "image/png": "[encoded data removed]",
      "text/plain": [
       "<Figure size 640x480 with 1 Axes>"
      ]
     },
     "metadata": {},
     "output_type": "display_data"
    }
   ],
   "source": [
    "!openai wandb sync -i ft-Ms483CO61JALOuyoJ1MF5cWI\n",
    "!openai api fine_tunes.results -i ft-Ms483CO61JALOuyoJ1MF5cWI > result.csv\n",
    "\n",
    "pd.read_csv('result.csv')['validation_loss'].dropna().plot()"
   ]
  },
  {
   "cell_type": "code",
   "execution_count": null,
   "id": "8da99f79",
   "metadata": {},
   "outputs": [],
   "source": [
    "# TODO accuracy of ada and curie with no fine tuning"
   ]
  },
  {
   "cell_type": "code",
   "execution_count": 601,
   "id": "5e4533bc",
   "metadata": {},
   "outputs": [
    {
     "data": {
      "text/plain": [
       "{'prompt': \"Query: Janet’s ducks lay 16 eggs per day. She eats three for breakfast every morning and bakes muffins for her friends every day with four. She sells the remainder at the farmers' market daily for $2 per fresh duck egg. How much in dollars does she make every day at the farmers' market?\\n\\nReasoning:\",\n",
       " 'completion': \" How many eggs does Janet sell? ** Janet sells 16 - 3 - 4 = <<16-3-4=9>>9 duck eggs a day.\\nHow much does Janet make at the farmers' market? ** She makes 9 * 2 = $<<9*2=18>>18 every day at the farmer’s market.\\n\\nMy final answer is: 18\"}"
      ]
     },
     "execution_count": 601,
     "metadata": {},
     "output_type": "execute_result"
    }
   ],
   "source": [
    "custom_socratic_testing_rows[0]"
   ]
  },
  {
   "cell_type": "code",
   "execution_count": 633,
   "id": "d47b6a52",
   "metadata": {
    "scrolled": true
   },
   "outputs": [
    {
     "name": "stderr",
     "output_type": "stream",
     "text": [
      "100%|██████████████████████████████████████████████████████████████████████| 1319/1319 [54:16<00:00,  2.47s/it]"
     ]
    },
    {
     "name": "stdout",
     "output_type": "stream",
     "text": [
      "accuracy: 0.16\n",
      "mae: 35835.00\n",
      "rmse: 741417.84\n"
     ]
    },
    {
     "name": "stderr",
     "output_type": "stream",
     "text": [
      "\n"
     ]
    }
   ],
   "source": [
    "results = evaluate_performance(\n",
    "    'curie:ft-personal-2023-03-26-15-09-27', socratic_testing_rows, '####', temperature=0\n",
    ")\n",
    "\n",
    "for key, value in results.items():\n",
    "    print(f'{key}: {value:.2f}')"
   ]
  },
  {
   "cell_type": "code",
   "execution_count": null,
   "id": "64e6735a",
   "metadata": {},
   "outputs": [],
   "source": []
  },
  {
   "cell_type": "markdown",
   "id": "3d71a4b3",
   "metadata": {},
   "source": [
    "# Incremental Training, going for 3 more epochs on curie"
   ]
  },
  {
   "cell_type": "code",
   "execution_count": 674,
   "id": "6f0cab76",
   "metadata": {},
   "outputs": [
    {
     "name": "stdout",
     "output_type": "stream",
     "text": [
      "huggingface/tokenizers: The current process just got forked, after parallelism has already been used. Disabling parallelism to avoid deadlocks...\n",
      "To disable this warning, you can either:\n",
      "\t- Avoid using `tokenizers` before the fork if possible\n",
      "\t- Explicitly set the environment variable TOKENIZERS_PARALLELISM=(true | false)\n",
      "Created fine-tune: ft-otejFZOdkdaMD4fWQqqgZXjz\n",
      "Streaming events until fine-tuning is complete...\n",
      "\n",
      "(Ctrl-C will interrupt the stream, but not cancel the fine-tune)\n",
      "[2023-03-29 08:36:57] Created fine-tune: ft-otejFZOdkdaMD4fWQqqgZXjz\n",
      "\n",
      "Stream interrupted (client disconnected).\n",
      "To resume the stream, run:\n",
      "\n",
      "  openai api fine_tunes.follow -i ft-otejFZOdkdaMD4fWQqqgZXjz\n",
      "\n"
     ]
    }
   ],
   "source": [
    "!openai api fine_tunes.create --training_file \"file-1I9DKcUGr0hrYjRQzoDowjiM\" --validation_file \"file-UzwI4ClJmSJk3ssyDkUlIt5S\" --model \"curie:ft-personal-2023-03-26-15-09-27\" --n_epochs 3\n"
   ]
  },
  {
   "cell_type": "code",
   "execution_count": 675,
   "id": "5bedc891",
   "metadata": {},
   "outputs": [
    {
     "name": "stdout",
     "output_type": "stream",
     "text": [
      "huggingface/tokenizers: The current process just got forked, after parallelism has already been used. Disabling parallelism to avoid deadlocks...\n",
      "To disable this warning, you can either:\n",
      "\t- Avoid using `tokenizers` before the fork if possible\n",
      "\t- Explicitly set the environment variable TOKENIZERS_PARALLELISM=(true | false)\n",
      "[2023-03-29 08:36:57] Created fine-tune: ft-otejFZOdkdaMD4fWQqqgZXjz\n",
      "\n",
      "Stream interrupted (client disconnected).\n",
      "To resume the stream, run:\n",
      "\n",
      "  openai api fine_tunes.follow -i ft-otejFZOdkdaMD4fWQqqgZXjz\n",
      "\n"
     ]
    }
   ],
   "source": [
    "!openai api fine_tunes.follow -i ft-otejFZOdkdaMD4fWQqqgZXjz\n"
   ]
  },
  {
   "cell_type": "code",
   "execution_count": null,
   "id": "d96b0be0",
   "metadata": {},
   "outputs": [],
   "source": [
    "!openai wandb sync -i ft-otejFZOdkdaMD4fWQqqgZXjz\n",
    "!openai api fine_tunes.results -i ft-otejFZOdkdaMD4fWQqqgZXjz > result.csv\n",
    "\n",
    "pd.read_csv('result.csv')['validation_loss'].dropna().plot()"
   ]
  },
  {
   "cell_type": "code",
   "execution_count": null,
   "id": "0bea3a7d",
   "metadata": {},
   "outputs": [],
   "source": []
  },
  {
   "cell_type": "code",
   "execution_count": null,
   "id": "cb1f74ba",
   "metadata": {},
   "outputs": [],
   "source": [
    "# maybe save few shot for chapter 5 to see if it improves things? First try to evaluate accuracy"
   ]
  },
  {
   "cell_type": "code",
   "execution_count": null,
   "id": "2fb66e48",
   "metadata": {},
   "outputs": [],
   "source": []
  },
  {
   "cell_type": "code",
   "execution_count": 370,
   "id": "f5341a9b",
   "metadata": {
    "scrolled": true
   },
   "outputs": [
    {
     "data": {
      "application/vnd.jupyter.widget-view+json": {
       "model_id": "333795fb79744d43980991e503ce0078",
       "version_major": 2,
       "version_minor": 0
      },
      "text/plain": [
       "Downloading:   0%|          | 0.00/690 [00:00<?, ?B/s]"
      ]
     },
     "metadata": {},
     "output_type": "display_data"
    },
    {
     "data": {
      "application/vnd.jupyter.widget-view+json": {
       "model_id": "078de551aa594fbfa1e10856bdfdb647",
       "version_major": 2,
       "version_minor": 0
      },
      "text/plain": [
       "Downloading:   0%|          | 0.00/190 [00:00<?, ?B/s]"
      ]
     },
     "metadata": {},
     "output_type": "display_data"
    },
    {
     "data": {
      "application/vnd.jupyter.widget-view+json": {
       "model_id": "38925cc8e4d24782a7f5a54dd23046e9",
       "version_major": 2,
       "version_minor": 0
      },
      "text/plain": [
       "Downloading:   0%|          | 0.00/3.69k [00:00<?, ?B/s]"
      ]
     },
     "metadata": {},
     "output_type": "display_data"
    },
    {
     "data": {
      "application/vnd.jupyter.widget-view+json": {
       "model_id": "de9ba02e819346c0862c8998ab13e956",
       "version_major": 2,
       "version_minor": 0
      },
      "text/plain": [
       "Downloading:   0%|          | 0.00/629 [00:00<?, ?B/s]"
      ]
     },
     "metadata": {},
     "output_type": "display_data"
    },
    {
     "data": {
      "application/vnd.jupyter.widget-view+json": {
       "model_id": "f70b84dc57ec4fb8b56315aac08b3f91",
       "version_major": 2,
       "version_minor": 0
      },
      "text/plain": [
       "Downloading:   0%|          | 0.00/122 [00:00<?, ?B/s]"
      ]
     },
     "metadata": {},
     "output_type": "display_data"
    },
    {
     "data": {
      "application/vnd.jupyter.widget-view+json": {
       "model_id": "d5c7c336fc0f44dfa146f6f5636e95d0",
       "version_major": 2,
       "version_minor": 0
      },
      "text/plain": [
       "Downloading:   0%|          | 0.00/90.9M [00:00<?, ?B/s]"
      ]
     },
     "metadata": {},
     "output_type": "display_data"
    },
    {
     "data": {
      "application/vnd.jupyter.widget-view+json": {
       "model_id": "5561805756f44769b199d82eeb00a92c",
       "version_major": 2,
       "version_minor": 0
      },
      "text/plain": [
       "Downloading:   0%|          | 0.00/53.0 [00:00<?, ?B/s]"
      ]
     },
     "metadata": {},
     "output_type": "display_data"
    },
    {
     "data": {
      "application/vnd.jupyter.widget-view+json": {
       "model_id": "0e934a4a92c84af398b26e5a2389f2e6",
       "version_major": 2,
       "version_minor": 0
      },
      "text/plain": [
       "Downloading:   0%|          | 0.00/112 [00:00<?, ?B/s]"
      ]
     },
     "metadata": {},
     "output_type": "display_data"
    },
    {
     "data": {
      "application/vnd.jupyter.widget-view+json": {
       "model_id": "a6aef883168f4d83971e471f3a5c4d43",
       "version_major": 2,
       "version_minor": 0
      },
      "text/plain": [
       "Downloading:   0%|          | 0.00/466k [00:00<?, ?B/s]"
      ]
     },
     "metadata": {},
     "output_type": "display_data"
    },
    {
     "data": {
      "application/vnd.jupyter.widget-view+json": {
       "model_id": "e83f63d523384c6c92a9995b000b95f0",
       "version_major": 2,
       "version_minor": 0
      },
      "text/plain": [
       "Downloading:   0%|          | 0.00/314 [00:00<?, ?B/s]"
      ]
     },
     "metadata": {},
     "output_type": "display_data"
    },
    {
     "data": {
      "application/vnd.jupyter.widget-view+json": {
       "model_id": "db8b78fe3f454b8e8352a913bf99cef6",
       "version_major": 2,
       "version_minor": 0
      },
      "text/plain": [
       "Downloading:   0%|          | 0.00/232k [00:00<?, ?B/s]"
      ]
     },
     "metadata": {},
     "output_type": "display_data"
    },
    {
     "data": {
      "application/vnd.jupyter.widget-view+json": {
       "model_id": "38e7c86077054561a1aef1d72ffce2f4",
       "version_major": 2,
       "version_minor": 0
      },
      "text/plain": [
       "Downloading:   0%|          | 0.00/229 [00:00<?, ?B/s]"
      ]
     },
     "metadata": {},
     "output_type": "display_data"
    }
   ],
   "source": [
    "from sentence_transformers import SentenceTransformer, util\n",
    "\n",
    "# Assuming you have a list of 1000 text documents\n",
    "documents = [socratic_training_row['prompt'] for socratic_training_row in socratic_training_rows]\n",
    "\n",
    "# Load a pre-trained biencoder for embedding text\n",
    "model_name = \"sentence-transformers/paraphrase-MiniLM-L6-v2\"\n",
    "model = SentenceTransformer(model_name)\n",
    "\n",
    "# Create embeddings for your documents\n",
    "embeddings = model.encode(documents)\n"
   ]
  },
  {
   "cell_type": "code",
   "execution_count": 374,
   "id": "e7394648",
   "metadata": {},
   "outputs": [
    {
     "data": {
      "text/plain": [
       "\"Janet’s ducks lay 16 eggs per day. She eats three for breakfast every morning and bakes muffins for her friends every day with four. She sells the remainder at the farmers' market daily for $2 per fresh duck egg. How much in dollars does she make every day at the farmers' market?\""
      ]
     },
     "execution_count": 374,
     "metadata": {},
     "output_type": "execute_result"
    }
   ],
   "source": [
    "socratic_testing_rows[0]['prompt']"
   ]
  },
  {
   "cell_type": "code",
   "execution_count": 375,
   "id": "1ed20d15",
   "metadata": {},
   "outputs": [
    {
     "name": "stdout",
     "output_type": "stream",
     "text": [
      "Document: Kelly has 8 chickens that lay 3 eggs each per day. If Kelly sells these eggs for $5 a dozen. How much money will she make in 4 weeks if she sells all her eggs? - Score: 0.7399358749389648\n",
      "Document: Jane runs a small farm.  She has 10 chickens that lay 6 eggs each per week. She can sell the eggs for $2/dozen.  How much money will she make in 2 weeks if she sells all her eggs? - Score: 0.7393282651901245\n",
      "Document: A farmer is selling ducks and chickens at the market. He sells ducks for $10 and chickens for $8. He sells 5 chickens and some ducks. He then spends half his earnings on a new wheelbarrow. After buying it, someone sees it and agrees to pay the farmer double what the farmer paid and the farmer earns another $60. How many ducks did the farmer sell? - Score: 0.7047860026359558\n"
     ]
    }
   ],
   "source": [
    "# Example query\n",
    "query = socratic_testing_rows[0]['prompt']\n",
    "\n",
    "# Embed the query\n",
    "query_embedding = model.encode([query])[0]\n",
    "\n",
    "# Perform a semantic search to retrieve the top 3 results\n",
    "results = util.semantic_search(query_embedding, embeddings, top_k=3)\n",
    "\n",
    "# Print the results\n",
    "for result in results[0]:\n",
    "    idx, score = result['corpus_id'], result['score']\n",
    "    print(f\"Document: {documents[idx]} - Score: {score}\")\n"
   ]
  },
  {
   "cell_type": "code",
   "execution_count": null,
   "id": "0ef7c9b7",
   "metadata": {},
   "outputs": [],
   "source": []
  }
 ],
 "metadata": {
  "kernelspec": {
   "display_name": "Python 3 (ipykernel)",
   "language": "python",
   "name": "python3"
  },
  "language_info": {
   "codemirror_mode": {
    "name": "ipython",
    "version": 3
   },
   "file_extension": ".py",
   "mimetype": "text/x-python",
   "name": "python",
   "nbconvert_exporter": "python",
   "pygments_lexer": "ipython3",
   "version": "3.10.11"
  }
 },
 "nbformat": 4,
 "nbformat_minor": 5
}
